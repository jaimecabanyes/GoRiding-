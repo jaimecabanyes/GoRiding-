{
 "cells": [
  {
   "cell_type": "markdown",
   "id": "164d5e70",
   "metadata": {},
   "source": [
    "# Pasar los datos a MongoDB"
   ]
  },
  {
   "cell_type": "code",
   "execution_count": 1,
   "id": "0f9f62bd",
   "metadata": {},
   "outputs": [],
   "source": [
    "import pandas as pd"
   ]
  },
  {
   "cell_type": "code",
   "execution_count": 2,
   "id": "ce363243",
   "metadata": {},
   "outputs": [],
   "source": [
    "df = pd.read_csv(\"Data/EuropaFin.csv\")"
   ]
  },
  {
   "cell_type": "code",
   "execution_count": null,
   "id": "6b33932b",
   "metadata": {},
   "outputs": [],
   "source": []
  }
 ],
 "metadata": {
  "kernelspec": {
   "display_name": "ironhack",
   "language": "python",
   "name": "ironhack"
  },
  "language_info": {
   "codemirror_mode": {
    "name": "ipython",
    "version": 3
   },
   "file_extension": ".py",
   "mimetype": "text/x-python",
   "name": "python",
   "nbconvert_exporter": "python",
   "pygments_lexer": "ipython3",
   "version": "3.8.11"
  }
 },
 "nbformat": 4,
 "nbformat_minor": 5
}
