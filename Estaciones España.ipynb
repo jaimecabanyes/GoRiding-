{
 "cells": [
  {
   "cell_type": "code",
   "execution_count": 1,
   "id": "17c0e0ad",
   "metadata": {},
   "outputs": [],
   "source": [
    "from selenium import webdriver\n",
    "from webdriver_manager.chrome import ChromeDriverManager\n",
    "from time import sleep\n",
    "from selenium.webdriver.chrome.options import Options\n",
    "import sys\n",
    "import regex as re\n",
    "import pandas as pd\n",
    "sys.path.append('../')"
   ]
  },
  {
   "cell_type": "code",
   "execution_count": 2,
   "id": "f992a06c",
   "metadata": {},
   "outputs": [],
   "source": [
    "opciones=Options()\n",
    "opciones.add_experimental_option('excludeSwitches', ['enable-automation'])\n",
    "opciones.add_experimental_option('useAutomationExtension', False)\n",
    "opciones.headless=False    # si True, no aperece la ventana (headless=no visible)\n",
    "#opciones.add_argument('--start-maximized') # comienza maximizado\n",
    "opciones.add_argument('--headless')\n",
    "opciones.add_argument('user-data-dir=selenium')    # mantiene las cookies\n",
    "opciones.add_argument('--incognito') \n"
   ]
  },
  {
   "cell_type": "code",
   "execution_count": 3,
   "id": "a03811f9",
   "metadata": {},
   "outputs": [],
   "source": [
    "enpointsespaña = ['baqueiraberet/', 'formigal/', 'la-molinamasella-alp2500/', 'sierra-nevada-pradollano/', 'cerler/',\n",
    "                  'panticosa/', 'boi-tauell/', 'espot-esqui/', 'candanchu/', 'astun/', 'port-del-comte/', 'valdezcaray/', \n",
    "                  'port-aine/', 'la-pinilla/', 'alto-campoo/', 'valgrande-pajares/', 'san-isidro-zona-cebolledo/', 'la-covatilla-sierra-de-bejar/', \n",
    "                  'valdesqui/', 'puerto-navacerrada/', 'javalambre/', 'fuentes-de-invierno/', 'manzaneda/', 'valdelinares-sierra-de-gudar/', \n",
    "                  'vallter-2000/', 'leitariegos/', 'pleta-del-prat-tavascan/', 'vall-de-nuria/', 'san-isidro-zona-salencias/', 'rasos-de-peguera/', \n",
    "                  'madrid-snow-zone/', 'punto-de-nieve-santa-ines/']"
   ]
  },
  {
   "cell_type": "code",
   "execution_count": 4,
   "id": "a336b69b",
   "metadata": {},
   "outputs": [
    {
     "data": {
      "text/plain": [
       "'\\'\\ndef scrapear1(ala):\\n\\n    driver = webdriver.Chrome(ChromeDriverManager().install(), options = opciones)\\n    sleep(5)\\n    \\n    driver.get(f\"https://www.skiresort.info/ski-resort/{ala}/\")\\n    sleep(5)\\n    a = driver.find_element_by_css_selector(\"#main-content > div.panel-simple.more-padding\").text\\n\\n    driver.quit()\\n    return a\\n'"
      ]
     },
     "execution_count": 4,
     "metadata": {},
     "output_type": "execute_result"
    }
   ],
   "source": [
    "''''\n",
    "def scrapear1(ala):\n",
    "\n",
    "    driver = webdriver.Chrome(ChromeDriverManager().install(), options = opciones)\n",
    "    sleep(5)\n",
    "    \n",
    "    driver.get(f\"https://www.skiresort.info/ski-resort/{ala}/\")\n",
    "    sleep(5)\n",
    "    a = driver.find_element_by_css_selector(\"#main-content > div.panel-simple.more-padding\").text\n",
    "\n",
    "    driver.quit()\n",
    "    return a\n",
    "'''"
   ]
  },
  {
   "cell_type": "code",
   "execution_count": 5,
   "id": "59e87887",
   "metadata": {
    "scrolled": false
   },
   "outputs": [
    {
     "data": {
      "text/plain": [
       "'\\ndatos = []\\n\\nfor i in enpointsespaña:\\n    try:\\n        x = scrapear1(i)\\n        datos.append(x)\\n    except:\\n        print(\"error\", i)\\n'"
      ]
     },
     "execution_count": 5,
     "metadata": {},
     "output_type": "execute_result"
    }
   ],
   "source": [
    "'''\n",
    "datos = []\n",
    "\n",
    "for i in enpointsespaña:\n",
    "    try:\n",
    "        x = scrapear1(i)\n",
    "        datos.append(x)\n",
    "    except:\n",
    "        print(\"error\", i)\n",
    "'''"
   ]
  },
  {
   "cell_type": "code",
   "execution_count": 6,
   "id": "038bb45a",
   "metadata": {
    "scrolled": true
   },
   "outputs": [],
   "source": [
    "datos = [\"1/49\\nSkiing Baqueira/Beret\\nThe ski resort Baqueira/Beret is located in Val d’Aran (Spain, Catalonia (Catalunya), Lleida). For skiing and snowboarding, there are 160 km of slopes and 5 km of ski routes available. 29 lifts transport the guests. The winter sports area is situated between the elevations of 1,500 and 2,610 m.\\nThe Baqueira Beret ski resort is one of the most well-known in Spain. It is also one of the largest and best ski resorts in the Pyrenees. It stretches across Baqueira, Beret and Bonaigua. The slopes at Bequeira Beret are mainly accessed with modern chairlifts. Due to the snow-reliable location, the ski season usually begins in November and goes until the end of April. Ski holiday accommodations are found in the village of Baqueira.\\nTest report\\n4.2 out of 5 stars\\nTrail map »\\nWebcam »\\nVideo »\\nPhotos »\\nElevation info\\n1500 m - 2610 m (Difference 1110 m)\\nSki slopes »\\nTotal: 160 km\\nEasy 80 km (49 %)\\nIntermediate 60 km (38 %)\\nDifficult 20 km (13 %)\\nAdditional:\\nSki routes 5 km\\nSki lifts »\\nTotal: 29\\n2\\n19\\n7\\n1\\nAdditional\\n7\\nSki pass prices\\nDay ticket\\nMain season\\nAdults Children\\n€ 54.50 € 36,-\\nSnow report »\\nSki resort closed\\nOperating times\\nCurrent season: 2021-11-27 - 2022-04-18\\nGeneral season: early December - mid April\\nOpening times: 08:45 - 16:45\\nNote: The openening times are provided by the ski resort Baqueira/Beret and can vary based on external conditions, day of the week, school holidays and public holidays.\\nSki holiday\\nTowns/villages at the ski resort (distance from town center):\\nBaqueira (0.1 km)\\nRuda (0.2 km)\\nTanau (0.3 km)\\nSalardú (4 km)\\nArties (7 km)\\nVielha e Mijaran (14 km)\\nValència d'Àneu (14 km)\\nEsterri d'Àneu (19 km)\\nFeedback for the Skiresort.info Team? Please use this form »\\n\\nski resort Baqueira/Beret\\nHotels near the slopes\\nBest ski hotels in the Alps\\nGet info now\\nPure snow fun at 2150 m\\nReliable snow and sheer skiing pleasure await in Ratschings-Jaufen\\nMore information\",\n",
    " \"1/39\\nSkiing Formigal\\nThe ski resort Formigal is located in the Province of Huesca (Spain, Aragon). For skiing and snowboarding, there are 137 km of slopes available. 15 lifts transport the guests. The winter sports area is situated between the elevations of 1,501 and 2,251 m.\\nThe Formigal ski resort is one of the best and most modern in all of Spain and the Pyrenees. It stretches across the four connected valleys of Tres Hombres-Sextas, Izas-Sarrios, Anayet and Portalet. The variety ranges from very easy slopes to extremely steep slopes and freeride areas. The Formigal ski resort is located directly on the French/Spanish border in the western section of the Pyrenees.\\nTest report\\n4.0 out of 5 stars\\nTrail map »\\nNot up-to-date\\nWebcam »\\nVideo »\\nPhotos »\\nElevation info\\n1501 m - 2251 m (Difference 750 m)\\nSki slopes »\\nTotal: 137 km\\nEasy 47 km (34 %)\\nIntermediate 70 km (51 %)\\nDifficult 20 km (15 %)\\nSki lifts »\\nTotal: 15\\n11\\n4\\nAdditional\\n1\\n3\\nSki pass prices\\nDay ticket\\nMain season\\nAdults Children\\n€ 49.50 € 40,-\\nSnow report »\\nSki resort closed\\nOperating times\\nCurrent season: 2021-11-27 - 2022-04-18\\nGeneral season: late November - mid April\\nOpening times: 09:00 - 17:00\\nNote: The openening times are provided by the ski resort Formigal and can vary based on external conditions, day of the week, school holidays and public holidays.\\nSki holiday\\nTowns/villages at the ski resort (distance from town center):\\nFormigal (1.1 km)\\nSallent de Gállego (5 km)\\nFeedback for the Skiresort.info Team? Please use this form »\\n\\nski resort Formigal\\nSportbahnen Elm\\nThe family-friendly ski resort with children's area and rustic huts.\\nGet info now\\nHotels near the slopes\\nBest ski hotels in the Alps\\nGet info now\",\n",
    " \"Skiing La Molina/Masella – Alp2500\\nThe ski resort La Molina/Masella – Alp2500 is located in the Province of Girona (Spain, Catalonia (Catalunya)) and in the Province of Barcelona (Spain, Catalonia (Catalunya)). For skiing and snowboarding, there are 141 km of slopes available. 28 lifts transport the guests. The winter sports area is situated between the elevations of 1,616 and 2,531 m.\\nEvaluation\\n3.8 out of 5 stars\\nTrail map »\\nWebcam »\\nElevation info\\n1616 m - 2531 m (Difference 915 m)\\nSki slopes »\\nTotal: 141 km\\nEasy 76 km (54 %)\\nIntermediate 47 km (33 %)\\nDifficult 18 km (13 %)\\nSki lifts »\\nTotal: 28\\n2\\n13\\n11\\n2\\nAdditional\\n6\\nSki pass prices\\nDay ticket\\nMain season\\nAdults Youth Children\\n€ 48,- € 44,- € 38,-\\nSnow report »\\nSki resort closed\\nOperating times\\nCurrent season: 2021-11-27 - 2022-04-18\\nGeneral season: late November - late April\\nOpening times: 09:00 - 16:00\\nNote: The openening times are provided by the ski resort La Molina/Masella – Alp2500 and can vary based on external conditions, day of the week, school holidays and public holidays.\\nSki holiday\\nTowns/villages at the ski resort (distance from town center):\\nLa Molina (0.5 km)\\nMasella (0.5 km)\\nAlp (7 km)\\nFeedback for the Skiresort.info Team? Please use this form »\\n\\nski resort La Molina/Masella – Alp2500\\nSportbahnen Elm\\nThe family-friendly ski resort with children's area and rustic huts.\\nGet info now\\nFamily Fun on the Wildkogel\\nRelaxing ski holiday for young and old.\\nGet info now\",\n",
    " 'Skiing Sierra Nevada – Pradollano\\nThe ski resort Sierra Nevada – Pradollano is located in the Province of Granada (Spain, Andalusia (Andalucía)). For skiing and snowboarding, there are 106.8 km of slopes available. 17 lifts transport the guests. The winter sports area is situated between the elevations of 2,100 and 3,282 m.\\nEvaluation\\n3.7 out of 5 stars\\nTrail map »\\nWebcam »\\nVideo »\\nElevation info\\n2100 m - 3282 m (Difference 1182 m)\\nSki slopes »\\nTotal: 107 km\\nEasy 50 km (47 %)\\nIntermediate 49 km (46 %)\\nDifficult 7.8 km (7 %)\\nSki lifts »\\nTotal: 17\\n2\\n14\\n1\\nAdditional\\n4\\nSki pass prices\\nDay ticket\\nMain season\\nAdults Children\\n€ 52,- € 34,-\\nSnow report »\\nSki resort closed\\nOperating times\\nCurrent season: 2021-12-04 - 2022-04-18\\nGeneral season: late November - early May\\nOpening times: 09:00 - 16:45\\nNote: The openening times are provided by the ski resort Sierra Nevada – Pradollano and can vary based on external conditions, day of the week, school holidays and public holidays.\\nSki holiday\\nTowns/villages at the ski resort (distance from town center):\\nPradollano (0.2 km)\\nMonachil (22 km)\\nGranada (34 km)\\nFeedback for the Skiresort.info Team? Please use this form »\\n\\nski resort Sierra Nevada – Pradollano\\nHotels near the slopes\\nBest ski hotels in the Alps\\nGet info now\\nWhere to go skiing?\\nTips for the ski holiday\\nGet info now',\n",
    " 'Skiing Cerler\\nThe ski resort Cerler is located in the Province of Huesca (Spain, Aragon). For skiing and snowboarding, there are 81 km of slopes available. 13 lifts transport the guests. The winter sports area is situated between the elevations of 1,505 and 2,630 m.\\nEvaluation\\n3.6 out of 5 stars\\nTrail map »\\nNot up-to-date\\nWebcam »\\nElevation info\\n1505 m - 2630 m (Difference 1125 m)\\nSki slopes »\\nTotal: 81 km\\nEasy 37 km (45 %)\\nIntermediate 29 km (36 %)\\nDifficult 15 km (19 %)\\nSki lifts »\\nTotal: 13\\n9\\n3\\n1\\nAdditional\\n2\\n4\\nSki pass prices\\nDay ticket\\nMain season\\nAdults Children\\n€ 46.50 € 37.50\\nSnow report »\\nSki resort closed\\nOperating times\\nCurrent season: 2021-12-04 - 2022-04-18\\nGeneral season: early December - early April\\nOpening times: 09:00 - 16:30\\nNote: The openening times are provided by the ski resort Cerler and can vary based on external conditions, day of the week, school holidays and public holidays.\\nSki holiday\\nTowns/villages at the ski resort (distance from town center):\\nCerler (1 km)\\nBenasque (8 km)\\nAmpriú (0.1 km)\\nFeedback for the Skiresort.info Team? Please use this form »\\n\\nski resort Cerler\\nDirectly on the slopes\\nThe world’s best ski resort Kitzbühel | Kirchberg\\nGet info now\\nVal Gardena SuperPremière\\n1 free day for 4 nights or more, incl. accommodation, ski pass and hire\\nBook now',\n",
    " \"Skiing Panticosa\\nThe ski resort Panticosa is located in the Province of Huesca (Spain, Aragon). For skiing and snowboarding, there are 35 km of slopes available. 10 lifts transport the guests. The winter sports area is situated between the elevations of 1,146 and 2,204 m.\\nEvaluation\\n3.1 out of 5 stars\\nTrail map »\\nNot up-to-date\\nWebcam »\\nElevation info\\n1146 m - 2204 m (Difference 1058 m)\\nSki slopes »\\nTotal: 35 km\\nEasy 11 km (31 %)\\nIntermediate 21 km (60 %)\\nDifficult 3 km (9 %)\\nSki lifts »\\nTotal: 10\\n1\\n5\\n4\\nAdditional\\n5\\nSki pass prices\\nDay ticket\\nMain season\\nAdults Children\\n€ 43.50 € 35,-\\nOperating times\\nGeneral season: early December - early April\\nOpening times: 09:00 - 17:00\\nNote: The openening times are provided by the ski resort Panticosa and can vary based on external conditions, day of the week, school holidays and public holidays.\\nSki holiday\\nTown/village at the ski resort:\\nPanticosa\\nFeedback for the Skiresort.info Team? Please use this form »\\n\\nski resort Panticosa\\nSportbahnen Elm\\nThe family-friendly ski resort with children's area and rustic huts.\\nGet info now\\nHotels near the slopes\\nBest ski hotels in the Alps\\nGet info now\",\n",
    " 'Skiing Boí Taüll\\nThe ski resort Boí Taüll is located in the Province of Lleida (Spain, Catalonia (Catalunya)). For skiing and snowboarding, there are 41.3 km of slopes and 2.7 km of ski routes available. 7 lifts transport the guests. The winter sports area is situated between the elevations of 2,020 and 2,751 m.\\nEvaluation\\n3.1 out of 5 stars\\nTrail map »\\nNot up-to-date\\nWebcam »\\nElevation info\\n2020 m - 2751 m (Difference 731 m)\\nSki slopes »\\nTotal: 41.3 km\\nEasy 10 km (24 %)\\nIntermediate 22.7 km (55 %)\\nDifficult 8.6 km (21 %)\\nAdditional:\\nSki routes 2.7 km\\nSki lifts »\\nTotal: 7\\n6\\n1\\nAdditional\\n3\\nSki pass prices\\nDay ticket\\nMain season\\nAdults Children\\n€ 39,- € 29,-\\nSki holiday\\nTowns/villages at the ski resort:\\nLa Vall de Boí\\nTaüll\\nFeedback for the Skiresort.info Team? Please use this form »\\n\\nski resort Boí Taüll\\nBrand-new Skiresort app\\nAvailable now in app stores\\nMore info\\nHotels near the slopes\\nBest ski hotels in the Alps\\nGet info now',\n",
    " 'Skiing Espot Esqui\\nThe ski resort Espot Esqui is located in the Province of Lleida (Spain, Catalonia (Catalunya)). For skiing and snowboarding, there are 25 km of slopes available. 3 lifts transport the guests. The winter sports area is situated between the elevations of 1,510 and 2,291 m.\\nEvaluation\\n3.1 out of 5 stars\\nTrail map »\\nWebcam »\\nElevation info\\n1510 m - 2291 m (Difference 781 m)\\nSki slopes »\\nTotal: 25 km\\nEasy 13 km (52 %)\\nIntermediate 8 km (32 %)\\nDifficult 4 km (16 %)\\nSki lifts »\\nTotal: 3\\n2\\n1\\nAdditional\\n2\\nSki pass prices\\nDay ticket\\nMain season\\nAdults Children\\n€ 34,- € 26,-\\nOperating times\\nGeneral season: early December - early April\\nOpening times: 09:00 - 16:00\\nNote: The openening times are provided by the ski resort Espot Esqui and can vary based on external conditions, day of the week, school holidays and public holidays.\\nSki holiday\\nTown/village at the ski resort:\\nEspot\\nFeedback for the Skiresort.info Team? Please use this form »\\n\\nski resort Espot Esqui\\nBrand-new Skiresort app\\nAvailable now in app stores\\nMore info\\nZillertal Arena\\nHighlights for the whole family in the largest ski area in the Zillertal.\\nFind out more',\n",
    " 'Skiing Candanchú\\nThe ski resort Candanchú is located in the Province of Huesca (Spain, Aragon). For skiing and snowboarding, there are 50 km of slopes and 11.2 km of ski routes available. 21 lifts transport the guests. The winter sports area is situated between the elevations of 1,514 and 2,236 m.\\nEvaluation\\n3.1 out of 5 stars\\nTrail map »\\nElevation info\\n1514 m - 2236 m (Difference 722 m)\\nSki slopes »\\nTotal: 50 km\\nEasy 15.8 km (32 %)\\nIntermediate 18.3 km (36 %)\\nDifficult 15.9 km (32 %)\\nAdditional:\\nSki routes 11.2 km\\nSki lifts »\\nTotal: 21\\n6\\n14\\n1\\nAdditional\\n4\\nSki pass prices\\nDay ticket\\nMain season\\nAdults Children\\n€ 45,- € 37,-\\nSnow report »\\nSki resort closed\\nOperating times\\nCurrent season: 2021-12-04 - 2022-04-18\\nGeneral season: early December - early April\\nOpening times: 09:00 - 17:00\\nNote: The openening times are provided by the ski resort Candanchú and can vary based on external conditions, day of the week, school holidays and public holidays.\\nSki holiday\\nTowns/villages at the ski resort:\\nJaca\\nCandanchú\\nFeedback for the Skiresort.info Team? Please use this form »\\n\\nski resort Candanchú\\nHotels near the slopes\\nBest ski hotels in the Alps\\nGet info now\\nDirectly on the slopes\\nThe world’s best ski resort Kitzbühel | Kirchberg\\nGet info now',\n",
    " 'Skiing Astún\\nThe ski resort Astún is located in the Province of Huesca (Spain, Aragon). For skiing and snowboarding, there are 39.9 km of slopes and 10.1 km of ski routes available. 12 lifts transport the guests. The winter sports area is situated between the elevations of 1,655 and 2,272 m.\\nEvaluation\\n3.1 out of 5 stars\\nTrail map »\\nWebcam »\\nElevation info\\n1655 m - 2272 m (Difference 617 m)\\nSki slopes »\\nTotal: 39.9 km\\nEasy 16.8 km (42 %)\\nIntermediate 18.8 km (47 %)\\nDifficult 4.3 km (11 %)\\nAdditional:\\nSki routes 10.1 km\\nSki lifts »\\nTotal: 12\\n5\\n7\\nAdditional\\n3\\nSki pass prices\\nDay ticket\\nMain season\\nAdults Children\\n€ 45,- € 37,-\\nSki holiday\\nTown/village at the ski resort:\\nJaca\\nFeedback for the Skiresort.info Team? Please use this form »\\n\\nski resort Astún\\nDolomites Val Gardena\\nMoving safely into winter in Val Gardena\\nFind out more\\nBrand-new Skiresort app\\nAvailable now in app stores\\nMore info',\n",
    " 'Skiing Port del Comte\\nThe ski resort Port del Comte is located in the Province of Lleida (Spain, Catalonia (Catalunya)). For skiing and snowboarding, there are 40 km of slopes available. 14 lifts transport the guests. The winter sports area is situated between the elevations of 1,745 and 2,310 m.\\nEvaluation\\n3.1 out of 5 stars\\nTrail map »\\nWebcam »\\nVideo »\\nElevation info\\n1745 m - 2310 m (Difference 565 m)\\nSki slopes »\\nTotal: 40 km\\nEasy 20 km (49 %)\\nIntermediate 15 km (38 %)\\nDifficult 5 km (13 %)\\nSki lifts »\\nTotal: 14\\n5\\n8\\n1\\nAdditional\\n2\\nSki pass prices\\nDay ticket\\nMain season\\nAdults Children\\n€ 36,- € 29,-\\nSki holiday\\nTowns/villages at the ski resort:\\nSolsonès\\nSant Llorenç de Morunys\\nLa Coma i la Pedra\\nFeedback for the Skiresort.info Team? Please use this form »\\n\\nski resort Port del Comte\\nDirectly on the slopes\\nThe world’s best ski resort Kitzbühel | Kirchberg\\nGet info now\\nBrand-new Skiresort app\\nAvailable now in app stores\\nMore info',\n",
    " 'Skiing Valdezcaray\\nThe ski resort Valdezcaray is located in La Rioja (Spain). For skiing and snowboarding, there are 22 km of slopes and 2 km of ski routes available. 10 lifts transport the guests. The winter sports area is situated between the elevations of 1,548 and 2,135 m.\\nEvaluation\\n3.0 out of 5 stars\\nTrail map »\\nElevation info\\n1548 m - 2135 m (Difference 587 m)\\nSki slopes »\\nTotal: 22 km\\nEasy 10 km (46 %)\\nIntermediate 10 km (45 %)\\nDifficult 2 km (9 %)\\nAdditional:\\nSki routes 2 km\\nSki lifts »\\nTotal: 10\\n7\\n1\\n2\\nSki pass prices\\nDay ticket\\nMain season\\nAdults Children\\n€ 29,- € 20,-\\nOperating times\\nOpening times: 09:00 - 17:00\\nNote: The openening times are provided by the ski resort Valdezcaray and can vary based on external conditions, day of the week, school holidays and public holidays.\\nSki holiday\\nTown/village at the ski resort:\\nEzcaray\\nFeedback for the Skiresort.info Team? Please use this form »\\n\\nski resort Valdezcaray\\nPure snow fun at 2150 m\\nReliable snow and sheer skiing pleasure await in Ratschings-Jaufen\\nMore information\\nHotels near the slopes\\nBest ski hotels in the Alps\\nGet info now',\n",
    " 'Skiing Port Ainé\\nThe ski resort Port Ainé is located in the Province of Lleida (Spain, Catalonia (Catalunya)). For skiing and snowboarding, there are 26.7 km of slopes available. 6 lifts transport the guests. The winter sports area is situated between the elevations of 1,650 and 2,421 m.\\nEvaluation\\n3.0 out of 5 stars\\nTrail map »\\nWebcam »\\nVideo »\\nElevation info\\n1650 m - 2421 m (Difference 771 m)\\nSki slopes »\\nTotal: 26.7 km\\nEasy 10.7 km (40 %)\\nIntermediate 11.7 km (44 %)\\nDifficult 4.3 km (16 %)\\nSki lifts »\\nTotal: 6\\n3\\n3\\nAdditional\\n2\\nSki pass prices\\nDay ticket\\nMain season\\nAdults Children\\n€ 34,- € 26,-\\nSki holiday\\nTowns/villages at the ski resort (distance from town center):\\nPort Ainé (0 km)\\nRoní (10 km)\\nRialp (17 km)\\nFeedback for the Skiresort.info Team? Please use this form »\\n\\nski resort Port Ainé\\nDirectly on the slopes\\nThe world’s best ski resort Kitzbühel | Kirchberg\\nGet info now\\nFamily Fun on the Wildkogel\\nRelaxing ski holiday for young and old.\\nGet info now',\n",
    " 'Skiing La Pinilla\\nThe ski resort La Pinilla is located in the Province of Segovia (Spain, Castile-Leon (Castilla y León)). For skiing and snowboarding, there are 21 km of slopes available. 11 lifts transport the guests. The winter sports area is situated between the elevations of 1,484 and 2,036 m.\\nEvaluation\\n3.0 out of 5 stars\\nTrail map »\\nVideo »\\nElevation info\\n1484 m - 2036 m (Difference 552 m)\\nSki slopes »\\nTotal: 21 km\\nEasy 14 km (66 %)\\nIntermediate 6 km (29 %)\\nDifficult 1 km (5 %)\\nSki lifts »\\nTotal: 11\\n1\\n3\\n7\\nAdditional\\n2\\nSki pass prices\\nDay ticket\\nMain season\\nAdults Children\\n€ 35,- € 26,-\\nOperating times\\nGeneral season: early December - early April\\nOpening times: 09:00 - 16:30\\nNote: The openening times are provided by the ski resort La Pinilla and can vary based on external conditions, day of the week, school holidays and public holidays.\\nSki holiday\\nTown/village at the ski resort:\\nRiaza\\nFeedback for the Skiresort.info Team? Please use this form »\\n\\nski resort La Pinilla\\nWhere to go skiing?\\nTips for the ski holiday\\nGet info now\\nBrand-new Skiresort app\\nAvailable now in app stores\\nMore info',\n",
    " 'Skiing Alto Campoo\\nThe ski resort Alto Campoo is located in Cantabria (Spain). For skiing and snowboarding, there are 27.7 km of slopes available. 13 lifts transport the guests. The winter sports area is situated between the elevations of 1,650 and 2,120 m.\\nEvaluation\\n2.9 out of 5 stars\\nTrail map »\\nWebcam »\\nVideo »\\nElevation info\\n1650 m - 2120 m (Difference 470 m)\\nSki slopes »\\nTotal: 27.7 km\\nEasy 13.6 km (49 %)\\nIntermediate 10.9 km (39 %)\\nDifficult 3.2 km (12 %)\\nSki lifts »\\nTotal: 13\\n5\\n7\\n1\\nSki pass prices\\nDay ticket\\nMain season\\nAdults Children\\n€ 34,- € 22,-\\nOperating times\\nGeneral season: early December - early April\\nSki holiday\\nTown/village at the ski resort:\\nHermandad de Campoo de Suso\\nFeedback for the Skiresort.info Team? Please use this form »\\n\\nski resort Alto Campoo\\nVal Gardena SuperPremière\\n1 free day for 4 nights or more, incl. accommodation, ski pass and hire\\nBook now\\nWhere to go skiing?\\nTips for the ski holiday\\nGet info now',\n",
    " 'Skiing Valgrande Pajares\\nThe ski resort Valgrande Pajares is located in Asturias (Asturian) (Spain). For skiing and snowboarding, there are 25 km of slopes available. 8 lifts transport the guests. The winter sports area is situated between the elevations of 1,455 and 1,840 m.\\nEvaluation\\n2.9 out of 5 stars\\nTrail map »\\nElevation info\\n1455 m - 1840 m (Difference 385 m)\\nSki slopes »\\nTotal: 25 km\\nEasy 12 km (48 %)\\nIntermediate 10 km (40 %)\\nDifficult 3 km (12 %)\\nSki lifts »\\nTotal: 8\\n5\\n3\\nAdditional\\n1\\nSki pass prices\\nDay ticket\\nMain season\\nAdults Children\\n€ 28,- € 24,-\\nSki holiday\\nTown/village at the ski resort:\\nLena\\nFeedback for the Skiresort.info Team? Please use this form »\\n\\nski resort Valgrande Pajares\\nArosa Lenzerheide\\nThe earlier you buy your ski pass, the lower the price!\\nBuy your ski pass now\\nDolomites Val Gardena\\nMoving safely into winter in Val Gardena\\nFind out more',\n",
    " 'Skiing San Isidro-Zona Cebolledo\\nThe ski resort San Isidro-Zona Cebolledo is located in the Province of León (Spain, Castile-Leon (Castilla y León)). For skiing and snowboarding, there are 20.8 km of slopes and 3.5 km of ski routes available. 7 lifts transport the guests. The winter sports area is situated between the elevations of 1,640 and 2,030 m.\\nEvaluation\\n2.8 out of 5 stars\\nTrail map »\\nWebcam »\\nElevation info\\n1640 m - 2030 m (Difference 390 m)\\nSki slopes »\\nTotal: 20.8 km\\nEasy 6.8 km (33 %)\\nIntermediate 9.5 km (45 %)\\nDifficult 4.5 km (22 %)\\nAdditional:\\nSki routes 3.5 km\\nSki lifts »\\nTotal: 7\\n4\\n2\\n1\\nAdditional\\n4\\nSki pass prices\\nDay ticket\\nMain season\\nAdults Children\\n€ 30,- € 26,-\\nSki holiday\\nTown/village at the ski resort:\\nPuebla de Lillo\\nFeedback for the Skiresort.info Team? Please use this form »\\n\\nski resort San Isidro-Zona Cebolledo\\nDirectly on the slopes\\nThe world’s best ski resort Kitzbühel | Kirchberg\\nGet info now\\nHotels near the slopes\\nBest ski hotels in the Alps\\nGet info now',\n",
    " 'Skiing La Covatilla – Sierra de Béjar\\nThe ski resort La Covatilla – Sierra de Béjar is located in the Province of Salamanca (Spain, Castile-Leon (Castilla y León)). For skiing and snowboarding, there are 26.8 km of slopes available. 3 lifts transport the guests. The winter sports area is situated between the elevations of 1,990 and 2,368 m.\\nEvaluation\\n2.8 out of 5 stars\\nTrail map »\\nElevation info\\n1990 m - 2368 m (Difference 378 m)\\nSki slopes »\\nTotal: 26.8 km\\nEasy 8.6 km (32 %)\\nIntermediate 18.2 km (68 %)\\nDifficult 0 km (0 %)\\nSki lifts »\\nTotal: 3\\n1\\n2\\nAdditional\\n1\\nSki pass prices\\nDay ticket\\nMain season\\nAdults Children\\n€ 29,- € 20,-\\nSki holiday\\nTown/village at the ski resort:\\nBéjar\\nFeedback for the Skiresort.info Team? Please use this form »\\n\\nski resort La Covatilla – Sierra de Béjar\\nHotels near the slopes\\nBest ski hotels in the Alps\\nGet info now\\nWhere to go skiing?\\nTips for the ski holiday\\nGet info now',\n",
    " 'Skiing Valdesquí\\nThe ski resort Valdesquí is located in the Community of Madrid (Comunidad de Madrid) (Spain). For skiing and snowboarding, there are 22.3 km of slopes available. 13 lifts transport the guests. The winter sports area is situated between the elevations of 1,860 and 2,278 m.\\nEvaluation\\n2.8 out of 5 stars\\nTrail map »\\nVideo »\\nElevation info\\n1860 m - 2278 m (Difference 418 m)\\nSki slopes »\\nTotal: 22.3 km\\nEasy 18.8 km (84 %)\\nIntermediate 3.5 km (16 %)\\nDifficult 0 km (0 %)\\nSki lifts »\\nTotal: 13\\n6\\n6\\n1\\nAdditional\\n2\\nSki pass prices\\nDay ticket\\nMain season\\nAdults Children\\n€ 38,- € 34,-\\nOperating times\\nOpening times: 09:00 - 16:30\\nNote: The openening times are provided by the ski resort Valdesquí and can vary based on external conditions, day of the week, school holidays and public holidays.\\nSki holiday\\nTowns/villages at the ski resort (distance from town center):\\nRascafría (19 km)\\nNavacerrada (20 km)\\nFeedback for the Skiresort.info Team? Please use this form »\\n\\nski resort Valdesquí\\nZillertal Arena\\nHighlights for the whole family in the largest ski area in the Zillertal.\\nFind out more\\nHotels near the slopes\\nBest ski hotels in the Alps\\nGet info now',\n",
    " 'Skiing Puerto Navacerrada\\nThe ski resort Puerto Navacerrada is located in the Community of Madrid (Comunidad de Madrid) (Spain). For skiing and snowboarding, there are 10 km of slopes available. 5 lifts transport the guests. The winter sports area is situated between the elevations of 1,703 and 2,174 m.\\nEvaluation\\n2.8 out of 5 stars\\nTrail map »\\nElevation info\\n1703 m - 2174 m (Difference 471 m)\\nSki slopes »\\nTotal: 10 km\\nEasy 3 km (30 %)\\nIntermediate 6 km (60 %)\\nDifficult 1 km (10 %)\\nSki lifts »\\nTotal: 5\\n4\\n1\\nAdditional\\n1\\nSki pass prices\\nDay ticket\\nMain season\\nAdults Children\\n€ 27,- € 22,-\\nSki holiday\\nTown/village at the ski resort:\\nNavacerrada\\nFeedback for the Skiresort.info Team? Please use this form »\\n\\nski resort Puerto Navacerrada\\nBrand-new Skiresort app\\nAvailable now in app stores\\nMore info\\nSchlick 2000 in Stubai\\nFun on the slopes and beautiful views of the Kalkkögel mountains\\nFind out more',\n",
    " 'Skiing Javalambre\\nThe ski resort Javalambre is located in the Province of Teruel (Spain, Aragon). For skiing and snowboarding, there are 15 km of slopes available. 7 lifts transport the guests. The winter sports area is situated between the elevations of 1,650 and 2,000 m.\\nEvaluation\\n2.7 out of 5 stars\\nTrail map »\\nNot up-to-date\\nWebcam »\\nVideo »\\nElevation info\\n1650 m - 2000 m (Difference 350 m)\\nSki slopes »\\nTotal: 15 km\\nEasy 14 km (93 %)\\nIntermediate 1 km (7 %)\\nDifficult 0 km (0 %)\\nSki lifts »\\nTotal: 7\\n3\\n4\\nAdditional\\n2\\nSki pass prices\\nDay ticket\\nMain season\\nAdults Children\\n€ 36,- € 29,-\\nOperating times\\nOpening times: 09:00 - 17:00\\nNote: The openening times are provided by the ski resort Javalambre and can vary based on external conditions, day of the week, school holidays and public holidays.\\nSki holiday\\nTown/village at the ski resort:\\nCamarena de la Sierra\\nFeedback for the Skiresort.info Team? Please use this form »\\n\\nski resort Javalambre\\nDirectly on the slopes\\nThe world’s best ski resort Kitzbühel | Kirchberg\\nGet info now\\nZillertal Arena\\nHighlights for the whole family in the largest ski area in the Zillertal.\\nFind out more',\n",
    " 'Skiing Fuentes de Invierno\\nThe ski resort Fuentes de Invierno is located in Asturias (Asturian) (Spain). For skiing and snowboarding, there are 8.8 km of slopes available. 4 lifts transport the guests. The winter sports area is situated between the elevations of 1,487 and 1,950 m.\\nFuentes de Invierno Winter Park is located in Aller City Council in the midst of the central Asturian mountain ranges, at the heart of a great natural park. The ski resort has a very good ratio of trails and lifts. Besides, there is a great variety of trails in order to meet the tastes and needs read more\\n\\n\\nEvaluation\\n2.7 out of 5 stars\\nTrail map »\\nElevation info\\n1487 m - 1950 m (Difference 463 m)\\nSki slopes »\\nTotal: 8.8 km\\nEasy 4.2 km (47 %)\\nIntermediate 3.3 km (38 %)\\nDifficult 1.3 km (15 %)\\nSki lifts »\\nTotal: 4\\n3\\n1\\nAdditional\\n1\\nSki pass prices\\nDay ticket\\nMain season\\nAdults Children\\n€ 27,- € 22,-\\nSnow report »\\nSki resort closed\\nOperating times\\nCurrent season: 2021-12-04 - 2022-04-03\\nGeneral season: early December - early April\\nOpening times: 09:00 - 16:45\\nNote: The openening times are provided by the ski resort Fuentes de Invierno and can vary based on external conditions, day of the week, school holidays and public holidays.\\nSki holiday\\nTown/village at the ski resort:\\nAller\\nFeedback for the Skiresort.info Team? Please use this form »\\n\\nski resort Fuentes de Invierno\\nHotels near the slopes\\nBest ski hotels in the Alps\\nGet info now\\nDirectly on the slopes\\nThe world’s best ski resort Kitzbühel | Kirchberg\\nGet info now',\n",
    " 'Skiing Manzaneda\\nThe ski resort Manzaneda is located in the Province of Ourense (Spain, Galicia). For skiing and snowboarding, there are 10 km of slopes available. 6 lifts transport the guests. The winter sports area is situated between the elevations of 1,505 and 1,760 m.\\nEvaluation\\n2.7 out of 5 stars\\nTrail map »\\nElevation info\\n1505 m - 1760 m (Difference 255 m)\\nSki slopes »\\nTotal: 10 km\\nEasy 8 km (80 %)\\nIntermediate 2 km (20 %)\\nDifficult 0 km (0 %)\\nSki lifts »\\nTotal: 6\\n2\\n4\\nSki pass prices\\nDay ticket\\nMain season\\nAdults Children\\n€ 25,- € 18,-\\nSki holiday\\nTown/village at the ski resort:\\nA Pobra de Trives\\nFeedback for the Skiresort.info Team? Please use this form »\\n\\nski resort Manzaneda\\nFamily Fun on the Wildkogel\\nRelaxing ski holiday for young and old.\\nGet info now\\nDirectly on the slopes\\nThe world’s best ski resort Kitzbühel | Kirchberg\\nGet info now',\n",
    " 'Skiing Valdelinares (Sierra de Gúdar)\\nThe ski resort Valdelinares (Sierra de Gúdar) is located in the Province of Teruel (Spain, Aragon). For skiing and snowboarding, there are 17 km of slopes available. 9 lifts transport the guests. The winter sports area is situated between the elevations of 1,737 and 1,979 m.\\nEvaluation\\n2.7 out of 5 stars\\nTrail map »\\nNot up-to-date\\nWebcam »\\nVideo »\\nElevation info\\n1737 m - 1979 m (Difference 242 m)\\nSki slopes »\\nTotal: 17 km\\nEasy 10 km (59 %)\\nIntermediate 7 km (41 %)\\nDifficult 0 km (0 %)\\nSki lifts »\\nTotal: 9\\n4\\n5\\nAdditional\\n3\\nSki pass prices\\nDay ticket\\nMain season\\nAdults Children\\n€ 37.50 € 30,-\\nOperating times\\nGeneral season: early December - early April\\nOpening times: 08:30 - 17:00\\nNote: The openening times are provided by the ski resort Valdelinares (Sierra de Gúdar) and can vary based on external conditions, day of the week, school holidays and public holidays.\\nSki holiday\\nTown/village at the ski resort:\\nValdelinares\\nFeedback for the Skiresort.info Team? Please use this form »\\n\\nski resort Valdelinares (Sierra de Gúdar)\\nDirectly on the slopes\\nThe world’s best ski resort Kitzbühel | Kirchberg\\nGet info now\\nVal Gardena SuperPremière\\n1 free day for 4 nights or more, incl. accommodation, ski pass and hire\\nBook now',\n",
    " 'Skiing Vallter 2000\\nThe ski resort Vallter 2000 is located in the Province of Girona (Spain, Catalonia (Catalunya)). For skiing and snowboarding, there are 10.4 km of slopes and 6.3 km of ski routes available. 8 lifts transport the guests. The winter sports area is situated between the elevations of 1,959 and 2,535 m.\\nVallter 2000 is in a glacial cirque (circus Morens - Ull de Ter) in the Eastern Pyrenees (Girona) in Ripollès and within the municipality of Setcases. This is a family friendly resort , with nearly 35 years as a ski slope. Surrounded by peaks (some of which exceed 2,800 m) , the base station is read more\\n\\nEvaluation\\n2.6 out of 5 stars\\nTrail map »\\nWebcam »\\nElevation info\\n1959 m - 2535 m (Difference 576 m)\\nSki slopes »\\nTotal: 10.4 km\\nEasy 5.4 km (52 %)\\nIntermediate 4 km (38 %)\\nDifficult 1 km (10 %)\\nAdditional:\\nSki routes 6.3 km\\nSki lifts »\\nTotal: 8\\n2\\n5\\n1\\nAdditional\\n3\\nSki pass prices\\nDay ticket\\nMain season\\nAdults Children\\n€ 27,- € 20,-\\nOperating times\\nGeneral season: early December - early April\\nOpening times: 09:00 - 16:45\\nNote: The openening times are provided by the ski resort Vallter 2000 and can vary based on external conditions, day of the week, school holidays and public holidays.\\nSki holiday\\nTown/village at the ski resort:\\nSetcases\\nFeedback for the Skiresort.info Team? Please use this form »\\n\\nski resort Vallter 2000\\nSchlick 2000 in Stubai\\nFun on the slopes and beautiful views of the Kalkkögel mountains\\nFind out more\\nDirectly on the slopes\\nThe world’s best ski resort Kitzbühel | Kirchberg\\nGet info now',\n",
    " 'Skiing Leitariegos\\nThe ski resort Leitariegos is located in the Province of León (Spain, Castile-Leon (Castilla y León)). For skiing and snowboarding, there are 7 km of slopes available. 6 lifts transport the guests. The winter sports area is situated between the elevations of 1,513 and 1,800 m.\\nEvaluation\\n2.5 out of 5 stars\\nTrail map »\\nWebcam »\\nElevation info\\n1513 m - 1800 m (Difference 287 m)\\nSki slopes »\\nTotal: 7 km\\nEasy 4 km (57 %)\\nIntermediate 3 km (43 %)\\nDifficult 0 km (0 %)\\nSki lifts »\\nTotal: 6\\n3\\n2\\n1\\nAdditional\\n2\\nSki pass prices\\nDay ticket\\nMain season\\nAdults Children\\n€ 22,- € 16,-\\nOperating times\\nGeneral season: mid December - early April\\nSki holiday\\nTown/village at the ski resort:\\nVillablino\\nFeedback for the Skiresort.info Team? Please use this form »\\n\\nski resort Leitariegos\\nHotels near the slopes\\nBest ski hotels in the Alps\\nGet info now\\nDirectly on the slopes\\nThe world’s best ski resort Kitzbühel | Kirchberg\\nGet info now',\n",
    " 'Skiing Pleta del Prat – Tavascan\\nThe ski resort Pleta del Prat – Tavascan is located in the Province of Lleida (Spain, Catalonia (Catalunya)). For skiing and snowboarding, there are 5 km of slopes available. 2 lifts transport the guests. The winter sports area is situated between the elevations of 1,712 and 2,197 m.\\nEvaluation\\n2.5 out of 5 stars\\nTrail map »\\nElevation info\\n1712 m - 2197 m (Difference 485 m)\\nSki slopes »\\nTotal: 5 km\\nEasy 1 km (20 %)\\nIntermediate 4 km (80 %)\\nDifficult 0 km (0 %)\\nSki lifts »\\nTotal: 2\\n1\\n1\\nAdditional\\n1\\nSki pass prices\\nDay ticket\\nMain season\\nAdults Children\\n€ 22,- € 16,-\\nOperating times\\nOpening times: 09:00 - 16:00\\nNote: The openening times are provided by the ski resort Pleta del Prat – Tavascan and can vary based on external conditions, day of the week, school holidays and public holidays.\\nSki holiday\\nTown/village at the ski resort:\\nTavascan\\nFeedback for the Skiresort.info Team? Please use this form »\\n\\nski resort Pleta del Prat – Tavascan\\nWhere to go skiing?\\nTips for the ski holiday\\nGet info now\\nHotels near the slopes\\nBest ski hotels in the Alps\\nGet info now',\n",
    " 'Skiing Vall de Núria\\nThe ski resort Vall de Núria is located in the Province of Girona (Spain, Catalonia (Catalunya)). For skiing and snowboarding, there are 7.6 km of slopes available. 5 lifts transport the guests. The winter sports area is situated between the elevations of 1,964 and 2,260 m.\\nEvaluation\\n2.4 out of 5 stars\\nTrail map »\\nWebcam »\\nElevation info\\n(912 m -) 1964 m - 2260 m (Difference 296 m)\\nSki slopes »\\nTotal: 7.6 km\\nEasy 4.1 km (54 %)\\nIntermediate 2.5 km (33 %)\\nDifficult 1 km (13 %)\\nSki lifts »\\nTotal: 5\\n1\\n1\\n1\\n2\\nAdditional\\n1\\nSki pass prices\\nDay ticket\\nMain season\\nAdults Children\\n€ 31,- € 23,-\\nSki holiday\\nTown/village at the ski resort:\\nRibes de Freser\\nFeedback for the Skiresort.info Team? Please use this form »\\n\\nski resort Vall de Núria\\nBrand-new Skiresort app\\nAvailable now in app stores\\nMore info\\nFamily fun in the Montafon\\nFree practice area & family prices on the Kristberg pleasure mountain\\nFind out more',\n",
    " 'Skiing San Isidro-Zona Salencias\\nThe ski resort San Isidro-Zona Salencias is located in the Province of León (Spain, Castile-Leon (Castilla y León)). For skiing and snowboarding, there are 6.5 km of slopes available. 4 lifts transport the guests. The winter sports area is situated between the elevations of 1,502 and 1,670 m.\\nEvaluation\\n2.3 out of 5 stars\\nTrail map »\\nNot up-to-date\\nWebcam »\\nElevation info\\n1502 m - 1670 m (Difference 168 m)\\nSki slopes »\\nTotal: 6.5 km\\nEasy 2.9 km (45 %)\\nIntermediate 3.6 km (55 %)\\nDifficult 0 km (0 %)\\nSki lifts »\\nTotal: 4\\n4\\nSki pass prices\\nDay ticket\\nMain season\\nAdults Children\\n€ 30,- € 26,-\\nSki holiday\\nTown/village at the ski resort:\\nPuebla de Lillo\\nFeedback for the Skiresort.info Team? Please use this form »\\n\\nski resort San Isidro-Zona Salencias\\nDirectly on the slopes\\nThe world’s best ski resort Kitzbühel | Kirchberg\\nGet info now\\nWhere to go skiing?\\nTips for the ski holiday\\nGet info now',\n",
    " 'Skiing Rasos de Peguera\\nThe ski resort Rasos de Peguera is located in the Province of Barcelona (Spain, Catalonia (Catalunya)). For skiing and snowboarding, there are 5 km of slopes available. 6 lifts transport the guests. The winter sports area is situated between the elevations of 1,825 and 2,035 m.\\nEvaluation\\n2.3 out of 5 stars\\nTrail map »\\nElevation info\\n1825 m - 2035 m (Difference 210 m)\\nSki slopes »\\nTotal: 5 km\\nEasy 3 km (60 %)\\nIntermediate 2 km (40 %)\\nDifficult 0 km (0 %)\\nSki lifts »\\nTotal: 6\\n4\\n2\\nSki holiday\\nTown/village at the ski resort:\\nCastellar del Riu\\nFeedback for the Skiresort.info Team? Please use this form »\\n\\nski resort Rasos de Peguera\\nVal Gardena SuperPremière\\n1 free day for 4 nights or more, incl. accommodation, ski pass and hire\\nBook now\\nGitschberg Jochtal\\nThe snow-reliable and family-friendly ski resort in South Tyrol\\nFind out more',\n",
    " '1/16\\nSkiing Madrid Snow Zone\\nThe ski resort Madrid Snow Zone is located in the Community of Madrid (Comunidad de Madrid) (Spain). For skiing and snowboarding, there are 0.3 km of slopes available. 3 lifts transport the guests. The winter sports area is situated between the elevations of 667 and 705 m.\\nEvaluation\\n2.2 out of 5 stars\\nTrail map »\\nPhotos »\\nElevation info\\n667 m - 705 m (Difference 38 m)\\nSki slopes »\\nTotal: 0.3 km\\nEasy 0.2 km (67 %)\\nIntermediate 0.1 km (33 %)\\nDifficult 0 km (0 %)\\nSki lifts »\\nTotal: 3\\n1\\n2\\nAdditional\\n1\\nSki pass prices\\nDay ticket\\nMain season\\nAdults\\n€ 39,-\\nOperating times\\nGeneral season: Year-round\\nOpening times: 09:00 - 22:00\\nNote: The openening times are provided by the ski resort Madrid Snow Zone and can vary based on external conditions, day of the week, school holidays and public holidays.\\nSki holiday\\nTown/village at the indoor ski area:\\nMadrid\\nFeedback for the Skiresort.info Team? Please use this form »\\n\\nindoor ski area Madrid Snow Zone\\nAlmenwelt Lofer\\nVery modern ski resort with great family prices\\nGet info now\\nBrand-new Skiresort app\\nAvailable now in app stores\\nMore info',\n",
    " 'Skiing Punto de Nieve Santa Inés\\nThe ski resort Punto de Nieve Santa Inés is located in the Province of Soria (Spain, Castile-Leon (Castilla y León)). For skiing and snowboarding, there are 1.8 km of slopes available. 2 lifts transport the guests. The winter sports area is situated between the elevations of 1,753 and 1,832 m.\\nEvaluation\\n2.1 out of 5 stars\\nElevation info\\n1753 m - 1832 m (Difference 79 m)\\nSki slopes »\\nTotal: 1.8 km\\nEasy 1 km (56 %)\\nIntermediate 0.8 km (44 %)\\nDifficult 0 km (0 %)\\nSki lifts »\\nTotal: 2\\n1\\n1\\nSki holiday\\nTown/village at the ski resort:\\nVinuesa\\nFeedback for the Skiresort.info Team? Please use this form »\\n\\nski resort Punto de Nieve Santa Inés\\nDirectly on the slopes\\nThe world’s best ski resort Kitzbühel | Kirchberg\\nGet info now\\nWhere to go skiing?\\nTips for the ski holiday\\nGet info now']"
   ]
  },
  {
   "cell_type": "code",
   "execution_count": 7,
   "id": "a599d540",
   "metadata": {},
   "outputs": [
    {
     "data": {
      "text/plain": [
       "32"
      ]
     },
     "execution_count": 7,
     "metadata": {},
     "output_type": "execute_result"
    }
   ],
   "source": [
    "len(datos)"
   ]
  },
  {
   "cell_type": "code",
   "execution_count": 8,
   "id": "d6b5a1d3",
   "metadata": {},
   "outputs": [],
   "source": [
    "españa = []\n",
    "def quitar_barra_n(lista):\n",
    "    for i in lista:\n",
    "        a=i.replace(\"\\n\", \"__\")\n",
    "        españa.append(a)\n",
    "    "
   ]
  },
  {
   "cell_type": "code",
   "execution_count": 9,
   "id": "e89cc10c",
   "metadata": {},
   "outputs": [],
   "source": [
    "quitar_barra_n(datos)"
   ]
  },
  {
   "cell_type": "code",
   "execution_count": 10,
   "id": "5bc8c536",
   "metadata": {},
   "outputs": [
    {
     "data": {
      "text/plain": [
       "\"1/49__Skiing Baqueira/Beret__The ski resort Baqueira/Beret is located in Val d’Aran (Spain, Catalonia (Catalunya), Lleida). For skiing and snowboarding, there are 160 km of slopes and 5 km of ski routes available. 29 lifts transport the guests. The winter sports area is situated between the elevations of 1,500 and 2,610 m.__The Baqueira Beret ski resort is one of the most well-known in Spain. It is also one of the largest and best ski resorts in the Pyrenees. It stretches across Baqueira, Beret and Bonaigua. The slopes at Bequeira Beret are mainly accessed with modern chairlifts. Due to the snow-reliable location, the ski season usually begins in November and goes until the end of April. Ski holiday accommodations are found in the village of Baqueira.__Test report__4.2 out of 5 stars__Trail map »__Webcam »__Video »__Photos »__Elevation info__1500 m - 2610 m (Difference 1110 m)__Ski slopes »__Total: 160 km__Easy 80 km (49 %)__Intermediate 60 km (38 %)__Difficult 20 km (13 %)__Additional:__Ski routes 5 km__Ski lifts »__Total: 29__2__19__7__1__Additional__7__Ski pass prices__Day ticket__Main season__Adults Children__€ 54.50 € 36,-__Snow report »__Ski resort closed__Operating times__Current season: 2021-11-27 - 2022-04-18__General season: early December - mid April__Opening times: 08:45 - 16:45__Note: The openening times are provided by the ski resort Baqueira/Beret and can vary based on external conditions, day of the week, school holidays and public holidays.__Ski holiday__Towns/villages at the ski resort (distance from town center):__Baqueira (0.1 km)__Ruda (0.2 km)__Tanau (0.3 km)__Salardú (4 km)__Arties (7 km)__Vielha e Mijaran (14 km)__València d'Àneu (14 km)__Esterri d'Àneu (19 km)__Feedback for the Skiresort.info Team? Please use this form »____ski resort Baqueira/Beret__Hotels near the slopes__Best ski hotels in the Alps__Get info now__Pure snow fun at 2150 m__Reliable snow and sheer skiing pleasure await in Ratschings-Jaufen__More information\""
      ]
     },
     "execution_count": 10,
     "metadata": {},
     "output_type": "execute_result"
    }
   ],
   "source": [
    "españa[0]"
   ]
  },
  {
   "cell_type": "code",
   "execution_count": 11,
   "id": "7f779333",
   "metadata": {},
   "outputs": [],
   "source": [
    "datosesp = datos"
   ]
  },
  {
   "cell_type": "code",
   "execution_count": 12,
   "id": "b6d3d8e7",
   "metadata": {},
   "outputs": [
    {
     "data": {
      "text/plain": [
       "32"
      ]
     },
     "execution_count": 12,
     "metadata": {},
     "output_type": "execute_result"
    }
   ],
   "source": [
    "len(datos)"
   ]
  },
  {
   "cell_type": "code",
   "execution_count": 13,
   "id": "82e3d20a",
   "metadata": {},
   "outputs": [],
   "source": [
    "def limpia_regex(string):\n",
    "    name = re.findall(\"The ski resort (.+?) is located\", string)\n",
    "    for i in name:\n",
    "        i = i.replace(\"__\", \"\")\n",
    "    \n",
    "    maxmin = re.findall(\"Elevation info(.+?)Difference\", string)\n",
    "    for j in maxmin:\n",
    "        j = j.replace(\" (\", \"\")\n",
    "    ski_slopes = re.findall(\"Ski slopes »__Total: (.+?)Ski lifts »__Total:\", string)\n",
    "    ski_lifts = re.findall(\"Ski lifts »__Total: (.+?)Ski pass prices\", string )\n",
    "    prices = re.findall(\"Ski pass prices(.+?),-\", string)\n",
    "    horarios = re.findall(\"__Operating times(.+?)Note\", string)\n",
    "    return [i, j, ski_slopes, ski_lifts, prices, horarios]\n",
    "    "
   ]
  },
  {
   "cell_type": "code",
   "execution_count": 14,
   "id": "81c0ec80",
   "metadata": {},
   "outputs": [],
   "source": [
    "españadf = []\n",
    "for i in españa:\n",
    "    x = limpia_regex(i)\n",
    "    españadf.append(x)\n",
    "    "
   ]
  },
  {
   "cell_type": "code",
   "execution_count": 15,
   "id": "213c158c",
   "metadata": {},
   "outputs": [
    {
     "data": {
      "text/plain": [
       "[['Baqueira/Beret',\n",
       "  '__1500 m - 2610 m',\n",
       "  ['160 km__Easy 80 km (49 %)__Intermediate 60 km (38 %)__Difficult 20 km (13 %)__Additional:__Ski routes 5 km__'],\n",
       "  ['29__2__19__7__1__Additional__7__'],\n",
       "  ['__Day ticket__Main season__Adults Children__€ 54.50 € 36'],\n",
       "  ['__Current season: 2021-11-27 - 2022-04-18__General season: early December - mid April__Opening times: 08:45 - 16:45__']],\n",
       " ['Formigal',\n",
       "  '__1501 m - 2251 m',\n",
       "  ['137 km__Easy 47 km (34 %)__Intermediate 70 km (51 %)__Difficult 20 km (15 %)__'],\n",
       "  ['15__11__4__Additional__1__3__'],\n",
       "  ['__Day ticket__Main season__Adults Children__€ 49.50 € 40'],\n",
       "  ['__Current season: 2021-11-27 - 2022-04-18__General season: late November - mid April__Opening times: 09:00 - 17:00__']],\n",
       " ['La Molina/Masella – Alp2500',\n",
       "  '__1616 m - 2531 m',\n",
       "  ['141 km__Easy 76 km (54 %)__Intermediate 47 km (33 %)__Difficult 18 km (13 %)__'],\n",
       "  ['28__2__13__11__2__Additional__6__'],\n",
       "  ['__Day ticket__Main season__Adults Youth Children__€ 48'],\n",
       "  ['__Current season: 2021-11-27 - 2022-04-18__General season: late November - late April__Opening times: 09:00 - 16:00__']],\n",
       " ['Sierra Nevada – Pradollano',\n",
       "  '__2100 m - 3282 m',\n",
       "  ['107 km__Easy 50 km (47 %)__Intermediate 49 km (46 %)__Difficult 7.8 km (7 %)__'],\n",
       "  ['17__2__14__1__Additional__4__'],\n",
       "  ['__Day ticket__Main season__Adults Children__€ 52'],\n",
       "  ['__Current season: 2021-12-04 - 2022-04-18__General season: late November - early May__Opening times: 09:00 - 16:45__']],\n",
       " ['Cerler',\n",
       "  '__1505 m - 2630 m',\n",
       "  ['81 km__Easy 37 km (45 %)__Intermediate 29 km (36 %)__Difficult 15 km (19 %)__'],\n",
       "  ['13__9__3__1__Additional__2__4__'],\n",
       "  [],\n",
       "  ['__Current season: 2021-12-04 - 2022-04-18__General season: early December - early April__Opening times: 09:00 - 16:30__']],\n",
       " ['Panticosa',\n",
       "  '__1146 m - 2204 m',\n",
       "  ['35 km__Easy 11 km (31 %)__Intermediate 21 km (60 %)__Difficult 3 km (9 %)__'],\n",
       "  ['10__1__5__4__Additional__5__'],\n",
       "  ['__Day ticket__Main season__Adults Children__€ 43.50 € 35'],\n",
       "  ['__General season: early December - early April__Opening times: 09:00 - 17:00__']],\n",
       " ['Boí Taüll',\n",
       "  '__2020 m - 2751 m',\n",
       "  ['41.3 km__Easy 10 km (24 %)__Intermediate 22.7 km (55 %)__Difficult 8.6 km (21 %)__Additional:__Ski routes 2.7 km__'],\n",
       "  ['7__6__1__Additional__3__'],\n",
       "  ['__Day ticket__Main season__Adults Children__€ 39'],\n",
       "  []],\n",
       " ['Espot Esqui',\n",
       "  '__1510 m - 2291 m',\n",
       "  ['25 km__Easy 13 km (52 %)__Intermediate 8 km (32 %)__Difficult 4 km (16 %)__'],\n",
       "  ['3__2__1__Additional__2__'],\n",
       "  ['__Day ticket__Main season__Adults Children__€ 34'],\n",
       "  ['__General season: early December - early April__Opening times: 09:00 - 16:00__']],\n",
       " ['Candanchú',\n",
       "  '__1514 m - 2236 m',\n",
       "  ['50 km__Easy 15.8 km (32 %)__Intermediate 18.3 km (36 %)__Difficult 15.9 km (32 %)__Additional:__Ski routes 11.2 km__'],\n",
       "  ['21__6__14__1__Additional__4__'],\n",
       "  ['__Day ticket__Main season__Adults Children__€ 45'],\n",
       "  ['__Current season: 2021-12-04 - 2022-04-18__General season: early December - early April__Opening times: 09:00 - 17:00__']],\n",
       " ['Astún',\n",
       "  '__1655 m - 2272 m',\n",
       "  ['39.9 km__Easy 16.8 km (42 %)__Intermediate 18.8 km (47 %)__Difficult 4.3 km (11 %)__Additional:__Ski routes 10.1 km__'],\n",
       "  ['12__5__7__Additional__3__'],\n",
       "  ['__Day ticket__Main season__Adults Children__€ 45'],\n",
       "  []],\n",
       " ['Port del Comte',\n",
       "  '__1745 m - 2310 m',\n",
       "  ['40 km__Easy 20 km (49 %)__Intermediate 15 km (38 %)__Difficult 5 km (13 %)__'],\n",
       "  ['14__5__8__1__Additional__2__'],\n",
       "  ['__Day ticket__Main season__Adults Children__€ 36'],\n",
       "  []],\n",
       " ['Valdezcaray',\n",
       "  '__1548 m - 2135 m',\n",
       "  ['22 km__Easy 10 km (46 %)__Intermediate 10 km (45 %)__Difficult 2 km (9 %)__Additional:__Ski routes 2 km__'],\n",
       "  ['10__7__1__2__'],\n",
       "  ['__Day ticket__Main season__Adults Children__€ 29'],\n",
       "  ['__Opening times: 09:00 - 17:00__']],\n",
       " ['Port Ainé',\n",
       "  '__1650 m - 2421 m',\n",
       "  ['26.7 km__Easy 10.7 km (40 %)__Intermediate 11.7 km (44 %)__Difficult 4.3 km (16 %)__'],\n",
       "  ['6__3__3__Additional__2__'],\n",
       "  ['__Day ticket__Main season__Adults Children__€ 34'],\n",
       "  []],\n",
       " ['La Pinilla',\n",
       "  '__1484 m - 2036 m',\n",
       "  ['21 km__Easy 14 km (66 %)__Intermediate 6 km (29 %)__Difficult 1 km (5 %)__'],\n",
       "  ['11__1__3__7__Additional__2__'],\n",
       "  ['__Day ticket__Main season__Adults Children__€ 35'],\n",
       "  ['__General season: early December - early April__Opening times: 09:00 - 16:30__']],\n",
       " ['Alto Campoo',\n",
       "  '__1650 m - 2120 m',\n",
       "  ['27.7 km__Easy 13.6 km (49 %)__Intermediate 10.9 km (39 %)__Difficult 3.2 km (12 %)__'],\n",
       "  ['13__5__7__1__'],\n",
       "  ['__Day ticket__Main season__Adults Children__€ 34'],\n",
       "  []],\n",
       " ['Valgrande Pajares',\n",
       "  '__1455 m - 1840 m',\n",
       "  ['25 km__Easy 12 km (48 %)__Intermediate 10 km (40 %)__Difficult 3 km (12 %)__'],\n",
       "  ['8__5__3__Additional__1__'],\n",
       "  ['__Day ticket__Main season__Adults Children__€ 28'],\n",
       "  []],\n",
       " ['San Isidro-Zona Cebolledo',\n",
       "  '__1640 m - 2030 m',\n",
       "  ['20.8 km__Easy 6.8 km (33 %)__Intermediate 9.5 km (45 %)__Difficult 4.5 km (22 %)__Additional:__Ski routes 3.5 km__'],\n",
       "  ['7__4__2__1__Additional__4__'],\n",
       "  ['__Day ticket__Main season__Adults Children__€ 30'],\n",
       "  []],\n",
       " ['La Covatilla – Sierra de Béjar',\n",
       "  '__1990 m - 2368 m',\n",
       "  ['26.8 km__Easy 8.6 km (32 %)__Intermediate 18.2 km (68 %)__Difficult 0 km (0 %)__'],\n",
       "  ['3__1__2__Additional__1__'],\n",
       "  ['__Day ticket__Main season__Adults Children__€ 29'],\n",
       "  []],\n",
       " ['Valdesquí',\n",
       "  '__1860 m - 2278 m',\n",
       "  ['22.3 km__Easy 18.8 km (84 %)__Intermediate 3.5 km (16 %)__Difficult 0 km (0 %)__'],\n",
       "  ['13__6__6__1__Additional__2__'],\n",
       "  ['__Day ticket__Main season__Adults Children__€ 38'],\n",
       "  ['__Opening times: 09:00 - 16:30__']],\n",
       " ['Puerto Navacerrada',\n",
       "  '__1703 m - 2174 m',\n",
       "  ['10 km__Easy 3 km (30 %)__Intermediate 6 km (60 %)__Difficult 1 km (10 %)__'],\n",
       "  ['5__4__1__Additional__1__'],\n",
       "  ['__Day ticket__Main season__Adults Children__€ 27'],\n",
       "  []],\n",
       " ['Javalambre',\n",
       "  '__1650 m - 2000 m',\n",
       "  ['15 km__Easy 14 km (93 %)__Intermediate 1 km (7 %)__Difficult 0 km (0 %)__'],\n",
       "  ['7__3__4__Additional__2__'],\n",
       "  ['__Day ticket__Main season__Adults Children__€ 36'],\n",
       "  ['__Opening times: 09:00 - 17:00__']],\n",
       " ['Fuentes de Invierno',\n",
       "  '__1487 m - 1950 m',\n",
       "  ['8.8 km__Easy 4.2 km (47 %)__Intermediate 3.3 km (38 %)__Difficult 1.3 km (15 %)__'],\n",
       "  ['4__3__1__Additional__1__'],\n",
       "  ['__Day ticket__Main season__Adults Children__€ 27'],\n",
       "  ['__Current season: 2021-12-04 - 2022-04-03__General season: early December - early April__Opening times: 09:00 - 16:45__']],\n",
       " ['Manzaneda',\n",
       "  '__1505 m - 1760 m',\n",
       "  ['10 km__Easy 8 km (80 %)__Intermediate 2 km (20 %)__Difficult 0 km (0 %)__'],\n",
       "  ['6__2__4__'],\n",
       "  ['__Day ticket__Main season__Adults Children__€ 25'],\n",
       "  []],\n",
       " ['Valdelinares (Sierra de Gúdar)',\n",
       "  '__1737 m - 1979 m',\n",
       "  ['17 km__Easy 10 km (59 %)__Intermediate 7 km (41 %)__Difficult 0 km (0 %)__'],\n",
       "  ['9__4__5__Additional__3__'],\n",
       "  ['__Day ticket__Main season__Adults Children__€ 37.50 € 30'],\n",
       "  ['__General season: early December - early April__Opening times: 08:30 - 17:00__']],\n",
       " ['Vallter 2000',\n",
       "  '__1959 m - 2535 m',\n",
       "  ['10.4 km__Easy 5.4 km (52 %)__Intermediate 4 km (38 %)__Difficult 1 km (10 %)__Additional:__Ski routes 6.3 km__'],\n",
       "  ['8__2__5__1__Additional__3__'],\n",
       "  ['__Day ticket__Main season__Adults Children__€ 27'],\n",
       "  ['__General season: early December - early April__Opening times: 09:00 - 16:45__']],\n",
       " ['Leitariegos',\n",
       "  '__1513 m - 1800 m',\n",
       "  ['7 km__Easy 4 km (57 %)__Intermediate 3 km (43 %)__Difficult 0 km (0 %)__'],\n",
       "  ['6__3__2__1__Additional__2__'],\n",
       "  ['__Day ticket__Main season__Adults Children__€ 22'],\n",
       "  []],\n",
       " ['Pleta del Prat – Tavascan',\n",
       "  '__1712 m - 2197 m',\n",
       "  ['5 km__Easy 1 km (20 %)__Intermediate 4 km (80 %)__Difficult 0 km (0 %)__'],\n",
       "  ['2__1__1__Additional__1__'],\n",
       "  ['__Day ticket__Main season__Adults Children__€ 22'],\n",
       "  ['__Opening times: 09:00 - 16:00__']],\n",
       " ['Vall de Núria',\n",
       "  '__(912 m -) 1964 m - 2260 m',\n",
       "  ['7.6 km__Easy 4.1 km (54 %)__Intermediate 2.5 km (33 %)__Difficult 1 km (13 %)__'],\n",
       "  ['5__1__1__1__2__Additional__1__'],\n",
       "  ['__Day ticket__Main season__Adults Children__€ 31'],\n",
       "  []],\n",
       " ['San Isidro-Zona Salencias',\n",
       "  '__1502 m - 1670 m',\n",
       "  ['6.5 km__Easy 2.9 km (45 %)__Intermediate 3.6 km (55 %)__Difficult 0 km (0 %)__'],\n",
       "  ['4__4__'],\n",
       "  ['__Day ticket__Main season__Adults Children__€ 30'],\n",
       "  []],\n",
       " ['Rasos de Peguera',\n",
       "  '__1825 m - 2035 m',\n",
       "  ['5 km__Easy 3 km (60 %)__Intermediate 2 km (40 %)__Difficult 0 km (0 %)__'],\n",
       "  [],\n",
       "  [],\n",
       "  []],\n",
       " ['Madrid Snow Zone',\n",
       "  '__667 m - 705 m',\n",
       "  ['0.3 km__Easy 0.2 km (67 %)__Intermediate 0.1 km (33 %)__Difficult 0 km (0 %)__'],\n",
       "  ['3__1__2__Additional__1__'],\n",
       "  ['__Day ticket__Main season__Adults__€ 39'],\n",
       "  ['__General season: Year-round__Opening times: 09:00 - 22:00__']],\n",
       " ['Punto de Nieve Santa Inés',\n",
       "  '__1753 m - 1832 m',\n",
       "  ['1.8 km__Easy 1 km (56 %)__Intermediate 0.8 km (44 %)__Difficult 0 km (0 %)__'],\n",
       "  [],\n",
       "  [],\n",
       "  []]]"
      ]
     },
     "execution_count": 15,
     "metadata": {},
     "output_type": "execute_result"
    }
   ],
   "source": [
    "españadf"
   ]
  },
  {
   "cell_type": "code",
   "execution_count": 16,
   "id": "31dddf8d",
   "metadata": {},
   "outputs": [],
   "source": [
    "dfEsp = pd.DataFrame(españadf)"
   ]
  },
  {
   "cell_type": "code",
   "execution_count": 17,
   "id": "e4ea5b2d",
   "metadata": {},
   "outputs": [],
   "source": [
    "dfEsp.columns\n",
    "dfEsp = dfEsp.rename(columns={0:\"Nombre\", 1: 'Metros', 2: 'Pistas', 3: 'Remontes', 4: 'Precios', 5:'Temporada'})    "
   ]
  },
  {
   "cell_type": "code",
   "execution_count": 18,
   "id": "6dfcab42",
   "metadata": {},
   "outputs": [],
   "source": [
    "dfEsp['Pistas'] = dfEsp['Pistas'].astype(str)\n",
    "dfEsp['Remontes'] = dfEsp['Remontes'].astype(str)\n",
    "dfEsp['Precios'] = dfEsp['Precios'].astype(str)\n",
    "dfEsp['Temporada'] = dfEsp['Temporada'].astype(str)"
   ]
  },
  {
   "cell_type": "code",
   "execution_count": 19,
   "id": "f64c15c1",
   "metadata": {},
   "outputs": [],
   "source": [
    "listametros = []\n",
    "def limpiar_metros(col): #Pasar la columna asi (dfEU.Metros)\n",
    "    for i in col:\n",
    "        modified_string = re.sub(r\"\\([^()]*\\)\", \"\", i)\n",
    "        listametros.append(modified_string)\n",
    "        "
   ]
  },
  {
   "cell_type": "code",
   "execution_count": 20,
   "id": "59f085f4",
   "metadata": {},
   "outputs": [],
   "source": [
    "limpiar_metros(dfEsp.Metros)"
   ]
  },
  {
   "cell_type": "code",
   "execution_count": 21,
   "id": "14508b03",
   "metadata": {},
   "outputs": [],
   "source": [
    "dfmetros = pd.DataFrame(listametros, columns=['Metros'])"
   ]
  },
  {
   "cell_type": "code",
   "execution_count": 22,
   "id": "3e649f45",
   "metadata": {},
   "outputs": [],
   "source": [
    "dfmetros[['Minima Altura', 'Maxima Altura']] = dfmetros['Metros'].str.split(' - ', 1, expand=True)"
   ]
  },
  {
   "cell_type": "code",
   "execution_count": 23,
   "id": "ea4e37cd",
   "metadata": {},
   "outputs": [],
   "source": [
    "dfmetros = dfmetros[['Minima Altura', 'Maxima Altura']]"
   ]
  },
  {
   "cell_type": "code",
   "execution_count": 24,
   "id": "90491dc2",
   "metadata": {},
   "outputs": [],
   "source": [
    "dfmetros.to_csv(\"Data/metrosesp.csv\")"
   ]
  },
  {
   "cell_type": "code",
   "execution_count": 25,
   "id": "aee9afee",
   "metadata": {},
   "outputs": [],
   "source": [
    "def hacer_df_pistas(columnadf): #ejemplo (df.Pistas)\n",
    "    for i in columnadf:\n",
    "        a = columnadf.str.extract(\"'(.+?) km__Easy \", flags=0, expand=True)\n",
    "        b = columnadf.str.extract(\"km__Easy (.+?) km \", flags=0, expand=True)\n",
    "        c = columnadf.str.extract(\"Intermediate (.+?) km \", flags=0, expand=True)\n",
    "        d = columnadf.str.extract(\"Difficult (.+?) km \", flags=0, expand=True)\n",
    "        e = columnadf.str.extract(\"Ski routes (.+?) km\", flags=0, expand=True)\n",
    "        a = a.rename(columns={0:\"Pistas_Totales\"})\n",
    "        b = b.rename(columns={0:\"Easy\"})\n",
    "        c = c.rename(columns={0:\"Intermediate\"})\n",
    "        d = d.rename(columns={0:\"Difficult\"})\n",
    "        e = e.rename(columns={0:\"Aditional_Routes\"})\n",
    "        dfpistas = pd.concat([a,b,c,d,e], axis=1)\n",
    "\n",
    "    \n",
    "    return dfpistas"
   ]
  },
  {
   "cell_type": "code",
   "execution_count": 26,
   "id": "f3b18a2d",
   "metadata": {},
   "outputs": [],
   "source": [
    "dfpistas = hacer_df_pistas(dfEsp.Pistas)"
   ]
  },
  {
   "cell_type": "code",
   "execution_count": 27,
   "id": "9195ac4e",
   "metadata": {},
   "outputs": [],
   "source": [
    "dfpistas.to_csv(\"Data/pistasesp.csv\")"
   ]
  },
  {
   "cell_type": "code",
   "execution_count": 28,
   "id": "c5d70954",
   "metadata": {},
   "outputs": [],
   "source": [
    "def obtener_num_remontes(columnadf):\n",
    "    for i in columnadf: \n",
    "        a = columnadf.str.extract(\"'(.+?)__\", flags=0, expand=True)\n",
    "        a = a.rename(columns={0:\"Lifts\"})\n",
    "    return a\n",
    "        "
   ]
  },
  {
   "cell_type": "code",
   "execution_count": 29,
   "id": "ba9420d6",
   "metadata": {},
   "outputs": [],
   "source": [
    "dfremontes = obtener_num_remontes(dfEsp.Remontes)"
   ]
  },
  {
   "cell_type": "code",
   "execution_count": 30,
   "id": "dcc72eef",
   "metadata": {},
   "outputs": [],
   "source": [
    "dfremontes.to_csv(\"Data/remontesesp.csv\")"
   ]
  },
  {
   "cell_type": "code",
   "execution_count": 31,
   "id": "bbf18de9",
   "metadata": {},
   "outputs": [],
   "source": [
    "dfprecios = dfEsp[['Precios']]"
   ]
  },
  {
   "cell_type": "code",
   "execution_count": 32,
   "id": "2eb8a9a6",
   "metadata": {},
   "outputs": [],
   "source": [
    "def obtener_precios(coldf):\n",
    "    for i in coldf:\n",
    "        print(i)\n",
    "        a = coldf.str.extract(\"€(.+?)Snow report\", flags=0, expand=True)\n",
    "        a = a.rename(columns={0:\"Precios\"})\n",
    "    return a\n",
    "\n",
    "        "
   ]
  },
  {
   "cell_type": "code",
   "execution_count": 33,
   "id": "6c5665be",
   "metadata": {},
   "outputs": [
    {
     "data": {
      "text/plain": [
       "array([\"['__Day ticket__Main season__Adults Children__€ 54.50 € 36']\",\n",
       "       \"['__Day ticket__Main season__Adults Children__€ 49.50 € 40']\",\n",
       "       \"['__Day ticket__Main season__Adults Youth Children__€ 48']\",\n",
       "       \"['__Day ticket__Main season__Adults Children__€ 52']\", '[]',\n",
       "       \"['__Day ticket__Main season__Adults Children__€ 43.50 € 35']\",\n",
       "       \"['__Day ticket__Main season__Adults Children__€ 39']\",\n",
       "       \"['__Day ticket__Main season__Adults Children__€ 34']\",\n",
       "       \"['__Day ticket__Main season__Adults Children__€ 45']\",\n",
       "       \"['__Day ticket__Main season__Adults Children__€ 36']\",\n",
       "       \"['__Day ticket__Main season__Adults Children__€ 29']\",\n",
       "       \"['__Day ticket__Main season__Adults Children__€ 35']\",\n",
       "       \"['__Day ticket__Main season__Adults Children__€ 28']\",\n",
       "       \"['__Day ticket__Main season__Adults Children__€ 30']\",\n",
       "       \"['__Day ticket__Main season__Adults Children__€ 38']\",\n",
       "       \"['__Day ticket__Main season__Adults Children__€ 27']\",\n",
       "       \"['__Day ticket__Main season__Adults Children__€ 25']\",\n",
       "       \"['__Day ticket__Main season__Adults Children__€ 37.50 € 30']\",\n",
       "       \"['__Day ticket__Main season__Adults Children__€ 22']\",\n",
       "       \"['__Day ticket__Main season__Adults Children__€ 31']\",\n",
       "       \"['__Day ticket__Main season__Adults__€ 39']\"], dtype=object)"
      ]
     },
     "execution_count": 33,
     "metadata": {},
     "output_type": "execute_result"
    }
   ],
   "source": [
    "dfprecios.Precios.unique()"
   ]
  },
  {
   "cell_type": "code",
   "execution_count": 35,
   "id": "cdade6c7",
   "metadata": {
    "scrolled": true
   },
   "outputs": [
    {
     "data": {
      "text/html": [
       "<div>\n",
       "<style scoped>\n",
       "    .dataframe tbody tr th:only-of-type {\n",
       "        vertical-align: middle;\n",
       "    }\n",
       "\n",
       "    .dataframe tbody tr th {\n",
       "        vertical-align: top;\n",
       "    }\n",
       "\n",
       "    .dataframe thead th {\n",
       "        text-align: right;\n",
       "    }\n",
       "</style>\n",
       "<table border=\"1\" class=\"dataframe\">\n",
       "  <thead>\n",
       "    <tr style=\"text-align: right;\">\n",
       "      <th></th>\n",
       "      <th>Precios</th>\n",
       "    </tr>\n",
       "  </thead>\n",
       "  <tbody>\n",
       "    <tr>\n",
       "      <th>0</th>\n",
       "      <td>['__Day ticket__Main season__Adults Children__...</td>\n",
       "    </tr>\n",
       "    <tr>\n",
       "      <th>1</th>\n",
       "      <td>['__Day ticket__Main season__Adults Children__...</td>\n",
       "    </tr>\n",
       "    <tr>\n",
       "      <th>2</th>\n",
       "      <td>['__Day ticket__Main season__Adults Youth Chil...</td>\n",
       "    </tr>\n",
       "    <tr>\n",
       "      <th>3</th>\n",
       "      <td>['__Day ticket__Main season__Adults Children__...</td>\n",
       "    </tr>\n",
       "    <tr>\n",
       "      <th>4</th>\n",
       "      <td>[]</td>\n",
       "    </tr>\n",
       "    <tr>\n",
       "      <th>5</th>\n",
       "      <td>['__Day ticket__Main season__Adults Children__...</td>\n",
       "    </tr>\n",
       "    <tr>\n",
       "      <th>6</th>\n",
       "      <td>['__Day ticket__Main season__Adults Children__...</td>\n",
       "    </tr>\n",
       "    <tr>\n",
       "      <th>7</th>\n",
       "      <td>['__Day ticket__Main season__Adults Children__...</td>\n",
       "    </tr>\n",
       "    <tr>\n",
       "      <th>8</th>\n",
       "      <td>['__Day ticket__Main season__Adults Children__...</td>\n",
       "    </tr>\n",
       "    <tr>\n",
       "      <th>9</th>\n",
       "      <td>['__Day ticket__Main season__Adults Children__...</td>\n",
       "    </tr>\n",
       "    <tr>\n",
       "      <th>10</th>\n",
       "      <td>['__Day ticket__Main season__Adults Children__...</td>\n",
       "    </tr>\n",
       "    <tr>\n",
       "      <th>11</th>\n",
       "      <td>['__Day ticket__Main season__Adults Children__...</td>\n",
       "    </tr>\n",
       "    <tr>\n",
       "      <th>12</th>\n",
       "      <td>['__Day ticket__Main season__Adults Children__...</td>\n",
       "    </tr>\n",
       "    <tr>\n",
       "      <th>13</th>\n",
       "      <td>['__Day ticket__Main season__Adults Children__...</td>\n",
       "    </tr>\n",
       "    <tr>\n",
       "      <th>14</th>\n",
       "      <td>['__Day ticket__Main season__Adults Children__...</td>\n",
       "    </tr>\n",
       "    <tr>\n",
       "      <th>15</th>\n",
       "      <td>['__Day ticket__Main season__Adults Children__...</td>\n",
       "    </tr>\n",
       "    <tr>\n",
       "      <th>16</th>\n",
       "      <td>['__Day ticket__Main season__Adults Children__...</td>\n",
       "    </tr>\n",
       "    <tr>\n",
       "      <th>17</th>\n",
       "      <td>['__Day ticket__Main season__Adults Children__...</td>\n",
       "    </tr>\n",
       "    <tr>\n",
       "      <th>18</th>\n",
       "      <td>['__Day ticket__Main season__Adults Children__...</td>\n",
       "    </tr>\n",
       "    <tr>\n",
       "      <th>19</th>\n",
       "      <td>['__Day ticket__Main season__Adults Children__...</td>\n",
       "    </tr>\n",
       "    <tr>\n",
       "      <th>20</th>\n",
       "      <td>['__Day ticket__Main season__Adults Children__...</td>\n",
       "    </tr>\n",
       "    <tr>\n",
       "      <th>21</th>\n",
       "      <td>['__Day ticket__Main season__Adults Children__...</td>\n",
       "    </tr>\n",
       "    <tr>\n",
       "      <th>22</th>\n",
       "      <td>['__Day ticket__Main season__Adults Children__...</td>\n",
       "    </tr>\n",
       "    <tr>\n",
       "      <th>23</th>\n",
       "      <td>['__Day ticket__Main season__Adults Children__...</td>\n",
       "    </tr>\n",
       "    <tr>\n",
       "      <th>24</th>\n",
       "      <td>['__Day ticket__Main season__Adults Children__...</td>\n",
       "    </tr>\n",
       "    <tr>\n",
       "      <th>25</th>\n",
       "      <td>['__Day ticket__Main season__Adults Children__...</td>\n",
       "    </tr>\n",
       "    <tr>\n",
       "      <th>26</th>\n",
       "      <td>['__Day ticket__Main season__Adults Children__...</td>\n",
       "    </tr>\n",
       "    <tr>\n",
       "      <th>27</th>\n",
       "      <td>['__Day ticket__Main season__Adults Children__...</td>\n",
       "    </tr>\n",
       "    <tr>\n",
       "      <th>28</th>\n",
       "      <td>['__Day ticket__Main season__Adults Children__...</td>\n",
       "    </tr>\n",
       "    <tr>\n",
       "      <th>29</th>\n",
       "      <td>[]</td>\n",
       "    </tr>\n",
       "    <tr>\n",
       "      <th>30</th>\n",
       "      <td>['__Day ticket__Main season__Adults__€ 39']</td>\n",
       "    </tr>\n",
       "    <tr>\n",
       "      <th>31</th>\n",
       "      <td>[]</td>\n",
       "    </tr>\n",
       "  </tbody>\n",
       "</table>\n",
       "</div>"
      ],
      "text/plain": [
       "                                              Precios\n",
       "0   ['__Day ticket__Main season__Adults Children__...\n",
       "1   ['__Day ticket__Main season__Adults Children__...\n",
       "2   ['__Day ticket__Main season__Adults Youth Chil...\n",
       "3   ['__Day ticket__Main season__Adults Children__...\n",
       "4                                                  []\n",
       "5   ['__Day ticket__Main season__Adults Children__...\n",
       "6   ['__Day ticket__Main season__Adults Children__...\n",
       "7   ['__Day ticket__Main season__Adults Children__...\n",
       "8   ['__Day ticket__Main season__Adults Children__...\n",
       "9   ['__Day ticket__Main season__Adults Children__...\n",
       "10  ['__Day ticket__Main season__Adults Children__...\n",
       "11  ['__Day ticket__Main season__Adults Children__...\n",
       "12  ['__Day ticket__Main season__Adults Children__...\n",
       "13  ['__Day ticket__Main season__Adults Children__...\n",
       "14  ['__Day ticket__Main season__Adults Children__...\n",
       "15  ['__Day ticket__Main season__Adults Children__...\n",
       "16  ['__Day ticket__Main season__Adults Children__...\n",
       "17  ['__Day ticket__Main season__Adults Children__...\n",
       "18  ['__Day ticket__Main season__Adults Children__...\n",
       "19  ['__Day ticket__Main season__Adults Children__...\n",
       "20  ['__Day ticket__Main season__Adults Children__...\n",
       "21  ['__Day ticket__Main season__Adults Children__...\n",
       "22  ['__Day ticket__Main season__Adults Children__...\n",
       "23  ['__Day ticket__Main season__Adults Children__...\n",
       "24  ['__Day ticket__Main season__Adults Children__...\n",
       "25  ['__Day ticket__Main season__Adults Children__...\n",
       "26  ['__Day ticket__Main season__Adults Children__...\n",
       "27  ['__Day ticket__Main season__Adults Children__...\n",
       "28  ['__Day ticket__Main season__Adults Children__...\n",
       "29                                                 []\n",
       "30        ['__Day ticket__Main season__Adults__€ 39']\n",
       "31                                                 []"
      ]
     },
     "execution_count": 35,
     "metadata": {},
     "output_type": "execute_result"
    }
   ],
   "source": [
    "dfprecios"
   ]
  },
  {
   "cell_type": "code",
   "execution_count": 37,
   "id": "a3b33abf",
   "metadata": {},
   "outputs": [
    {
     "ename": "ValueError",
     "evalue": "Columns must be same length as key",
     "output_type": "error",
     "traceback": [
      "\u001b[0;31m---------------------------------------------------------------------------\u001b[0m",
      "\u001b[0;31mValueError\u001b[0m                                Traceback (most recent call last)",
      "\u001b[0;32m<ipython-input-37-fa173dc5acb1>\u001b[0m in \u001b[0;36m<module>\u001b[0;34m\u001b[0m\n\u001b[0;32m----> 1\u001b[0;31m \u001b[0mdfprecios\u001b[0m\u001b[0;34m[\u001b[0m\u001b[0;34m[\u001b[0m\u001b[0;34m'Adults'\u001b[0m\u001b[0;34m,\u001b[0m \u001b[0;34m'Youth'\u001b[0m\u001b[0;34m,\u001b[0m \u001b[0;34m'Children'\u001b[0m\u001b[0;34m,\u001b[0m \u001b[0;34m'Nada'\u001b[0m\u001b[0;34m]\u001b[0m\u001b[0;34m]\u001b[0m \u001b[0;34m=\u001b[0m \u001b[0mdfprecios\u001b[0m\u001b[0;34m[\u001b[0m\u001b[0;34m'Precios'\u001b[0m\u001b[0;34m]\u001b[0m\u001b[0;34m.\u001b[0m\u001b[0mstr\u001b[0m\u001b[0;34m.\u001b[0m\u001b[0msplit\u001b[0m\u001b[0;34m(\u001b[0m\u001b[0;34m\",\"\u001b[0m\u001b[0;34m,\u001b[0m \u001b[0mexpand\u001b[0m\u001b[0;34m=\u001b[0m\u001b[0;32mTrue\u001b[0m\u001b[0;34m)\u001b[0m\u001b[0;34m\u001b[0m\u001b[0;34m\u001b[0m\u001b[0m\n\u001b[0m",
      "\u001b[0;32m/opt/homebrew/Caskroom/miniconda/base/envs/ironhack/lib/python3.8/site-packages/pandas/core/frame.py\u001b[0m in \u001b[0;36m__setitem__\u001b[0;34m(self, key, value)\u001b[0m\n\u001b[1;32m   3595\u001b[0m             \u001b[0mself\u001b[0m\u001b[0;34m.\u001b[0m\u001b[0m_setitem_frame\u001b[0m\u001b[0;34m(\u001b[0m\u001b[0mkey\u001b[0m\u001b[0;34m,\u001b[0m \u001b[0mvalue\u001b[0m\u001b[0;34m)\u001b[0m\u001b[0;34m\u001b[0m\u001b[0;34m\u001b[0m\u001b[0m\n\u001b[1;32m   3596\u001b[0m         \u001b[0;32melif\u001b[0m \u001b[0misinstance\u001b[0m\u001b[0;34m(\u001b[0m\u001b[0mkey\u001b[0m\u001b[0;34m,\u001b[0m \u001b[0;34m(\u001b[0m\u001b[0mSeries\u001b[0m\u001b[0;34m,\u001b[0m \u001b[0mnp\u001b[0m\u001b[0;34m.\u001b[0m\u001b[0mndarray\u001b[0m\u001b[0;34m,\u001b[0m \u001b[0mlist\u001b[0m\u001b[0;34m,\u001b[0m \u001b[0mIndex\u001b[0m\u001b[0;34m)\u001b[0m\u001b[0;34m)\u001b[0m\u001b[0;34m:\u001b[0m\u001b[0;34m\u001b[0m\u001b[0;34m\u001b[0m\u001b[0m\n\u001b[0;32m-> 3597\u001b[0;31m             \u001b[0mself\u001b[0m\u001b[0;34m.\u001b[0m\u001b[0m_setitem_array\u001b[0m\u001b[0;34m(\u001b[0m\u001b[0mkey\u001b[0m\u001b[0;34m,\u001b[0m \u001b[0mvalue\u001b[0m\u001b[0;34m)\u001b[0m\u001b[0;34m\u001b[0m\u001b[0;34m\u001b[0m\u001b[0m\n\u001b[0m\u001b[1;32m   3598\u001b[0m         \u001b[0;32melif\u001b[0m \u001b[0misinstance\u001b[0m\u001b[0;34m(\u001b[0m\u001b[0mvalue\u001b[0m\u001b[0;34m,\u001b[0m \u001b[0mDataFrame\u001b[0m\u001b[0;34m)\u001b[0m\u001b[0;34m:\u001b[0m\u001b[0;34m\u001b[0m\u001b[0;34m\u001b[0m\u001b[0m\n\u001b[1;32m   3599\u001b[0m             \u001b[0mself\u001b[0m\u001b[0;34m.\u001b[0m\u001b[0m_set_item_frame_value\u001b[0m\u001b[0;34m(\u001b[0m\u001b[0mkey\u001b[0m\u001b[0;34m,\u001b[0m \u001b[0mvalue\u001b[0m\u001b[0;34m)\u001b[0m\u001b[0;34m\u001b[0m\u001b[0;34m\u001b[0m\u001b[0m\n",
      "\u001b[0;32m/opt/homebrew/Caskroom/miniconda/base/envs/ironhack/lib/python3.8/site-packages/pandas/core/frame.py\u001b[0m in \u001b[0;36m_setitem_array\u001b[0;34m(self, key, value)\u001b[0m\n\u001b[1;32m   3632\u001b[0m         \u001b[0;32melse\u001b[0m\u001b[0;34m:\u001b[0m\u001b[0;34m\u001b[0m\u001b[0;34m\u001b[0m\u001b[0m\n\u001b[1;32m   3633\u001b[0m             \u001b[0;32mif\u001b[0m \u001b[0misinstance\u001b[0m\u001b[0;34m(\u001b[0m\u001b[0mvalue\u001b[0m\u001b[0;34m,\u001b[0m \u001b[0mDataFrame\u001b[0m\u001b[0;34m)\u001b[0m\u001b[0;34m:\u001b[0m\u001b[0;34m\u001b[0m\u001b[0;34m\u001b[0m\u001b[0m\n\u001b[0;32m-> 3634\u001b[0;31m                 \u001b[0mcheck_key_length\u001b[0m\u001b[0;34m(\u001b[0m\u001b[0mself\u001b[0m\u001b[0;34m.\u001b[0m\u001b[0mcolumns\u001b[0m\u001b[0;34m,\u001b[0m \u001b[0mkey\u001b[0m\u001b[0;34m,\u001b[0m \u001b[0mvalue\u001b[0m\u001b[0;34m)\u001b[0m\u001b[0;34m\u001b[0m\u001b[0;34m\u001b[0m\u001b[0m\n\u001b[0m\u001b[1;32m   3635\u001b[0m                 \u001b[0;32mfor\u001b[0m \u001b[0mk1\u001b[0m\u001b[0;34m,\u001b[0m \u001b[0mk2\u001b[0m \u001b[0;32min\u001b[0m \u001b[0mzip\u001b[0m\u001b[0;34m(\u001b[0m\u001b[0mkey\u001b[0m\u001b[0;34m,\u001b[0m \u001b[0mvalue\u001b[0m\u001b[0;34m.\u001b[0m\u001b[0mcolumns\u001b[0m\u001b[0;34m)\u001b[0m\u001b[0;34m:\u001b[0m\u001b[0;34m\u001b[0m\u001b[0;34m\u001b[0m\u001b[0m\n\u001b[1;32m   3636\u001b[0m                     \u001b[0mself\u001b[0m\u001b[0;34m[\u001b[0m\u001b[0mk1\u001b[0m\u001b[0;34m]\u001b[0m \u001b[0;34m=\u001b[0m \u001b[0mvalue\u001b[0m\u001b[0;34m[\u001b[0m\u001b[0mk2\u001b[0m\u001b[0;34m]\u001b[0m\u001b[0;34m\u001b[0m\u001b[0;34m\u001b[0m\u001b[0m\n",
      "\u001b[0;32m/opt/homebrew/Caskroom/miniconda/base/envs/ironhack/lib/python3.8/site-packages/pandas/core/indexers.py\u001b[0m in \u001b[0;36mcheck_key_length\u001b[0;34m(columns, key, value)\u001b[0m\n\u001b[1;32m    426\u001b[0m     \u001b[0;32mif\u001b[0m \u001b[0mcolumns\u001b[0m\u001b[0;34m.\u001b[0m\u001b[0mis_unique\u001b[0m\u001b[0;34m:\u001b[0m\u001b[0;34m\u001b[0m\u001b[0;34m\u001b[0m\u001b[0m\n\u001b[1;32m    427\u001b[0m         \u001b[0;32mif\u001b[0m \u001b[0mlen\u001b[0m\u001b[0;34m(\u001b[0m\u001b[0mvalue\u001b[0m\u001b[0;34m.\u001b[0m\u001b[0mcolumns\u001b[0m\u001b[0;34m)\u001b[0m \u001b[0;34m!=\u001b[0m \u001b[0mlen\u001b[0m\u001b[0;34m(\u001b[0m\u001b[0mkey\u001b[0m\u001b[0;34m)\u001b[0m\u001b[0;34m:\u001b[0m\u001b[0;34m\u001b[0m\u001b[0;34m\u001b[0m\u001b[0m\n\u001b[0;32m--> 428\u001b[0;31m             \u001b[0;32mraise\u001b[0m \u001b[0mValueError\u001b[0m\u001b[0;34m(\u001b[0m\u001b[0;34m\"Columns must be same length as key\"\u001b[0m\u001b[0;34m)\u001b[0m\u001b[0;34m\u001b[0m\u001b[0;34m\u001b[0m\u001b[0m\n\u001b[0m\u001b[1;32m    429\u001b[0m     \u001b[0;32melse\u001b[0m\u001b[0;34m:\u001b[0m\u001b[0;34m\u001b[0m\u001b[0;34m\u001b[0m\u001b[0m\n\u001b[1;32m    430\u001b[0m         \u001b[0;31m# Missing keys in columns are represented as -1\u001b[0m\u001b[0;34m\u001b[0m\u001b[0;34m\u001b[0m\u001b[0;34m\u001b[0m\u001b[0m\n",
      "\u001b[0;31mValueError\u001b[0m: Columns must be same length as key"
     ]
    }
   ],
   "source": [
    "dfprecios[['Adults', 'Youth', 'Children', 'Nada', '']] = dfprecios['Precios'].str.split(\",\", expand=True)"
   ]
  },
  {
   "cell_type": "code",
   "execution_count": null,
   "id": "35da229c",
   "metadata": {},
   "outputs": [],
   "source": []
  },
  {
   "cell_type": "code",
   "execution_count": null,
   "id": "3e7552c7",
   "metadata": {},
   "outputs": [],
   "source": [
    "a.to_csv(\"Data/preciosesp.csv\")"
   ]
  },
  {
   "cell_type": "code",
   "execution_count": null,
   "id": "2c8e5cdf",
   "metadata": {},
   "outputs": [],
   "source": [
    "dftemporada = dfEsp[['Temporada']]"
   ]
  },
  {
   "cell_type": "code",
   "execution_count": null,
   "id": "4230d27e",
   "metadata": {},
   "outputs": [],
   "source": [
    "def obtener_temporadas(columnadf):\n",
    "    for i in columnadf:\n",
    "        a = columnadf.str.extract(\"Current season:(.+?)General season:\", flags=0, expand=True)\n",
    "        b = columnadf.str.extract(\"General season:(.+?)Opening times: \", flags=0, expand=True)\n",
    "        c = columnadf.str.extract(\"Opening times:(.+?)']\", flags=0, expand=True)\n",
    "        a = a.rename(columns={0:\"Current_season\"})\n",
    "        b = b.rename(columns={0:\"General_season\"})\n",
    "        c = c.rename(columns={0:\"Time\"})\n",
    "        dftemporada = pd.concat([a,b,c], axis=1)\n",
    "        dftemporada[['Current_season_start', 'Current_season_finish']] = dftemporada['Current_season'].str.split(' - ', 1, expand=True)\n",
    "        dftemporada[['General_season_start', 'General_season_finish']] = dftemporada['General_season'].str.split(' - ', 1, expand=True)\n",
    "        dftemporada[['Opening_time', 'Closing_time']] = dftemporada['Time'].str.split(' - ', 1, expand=True)\n",
    "        dftemporada = dftemporada[['Current_season_start', 'Current_season_finish','General_season_start', 'General_season_finish','Opening_time', 'Closing_time']]\n",
    "        return dftemporada\n",
    "       \n",
    "        "
   ]
  },
  {
   "cell_type": "code",
   "execution_count": null,
   "id": "d82c7e59",
   "metadata": {},
   "outputs": [],
   "source": [
    "len(dftemporada.Temporada.unique())"
   ]
  },
  {
   "cell_type": "code",
   "execution_count": null,
   "id": "2092c78b",
   "metadata": {},
   "outputs": [],
   "source": [
    "a = obtener_temporadas(dfEsp.Temporada)"
   ]
  },
  {
   "cell_type": "code",
   "execution_count": null,
   "id": "b3379da3",
   "metadata": {},
   "outputs": [],
   "source": [
    "a.to_csv(\"Data/Seasonesp.csv\")"
   ]
  },
  {
   "cell_type": "code",
   "execution_count": null,
   "id": "21ad067c",
   "metadata": {},
   "outputs": [],
   "source": []
  },
  {
   "cell_type": "code",
   "execution_count": null,
   "id": "fd8149fe",
   "metadata": {},
   "outputs": [],
   "source": [
    "dfnombres = dfEsp[['Nombre']]"
   ]
  },
  {
   "cell_type": "code",
   "execution_count": null,
   "id": "bddd34dc",
   "metadata": {},
   "outputs": [],
   "source": [
    "dfnombres.to_csv(\"Data/nombresesp.csv\")"
   ]
  },
  {
   "cell_type": "code",
   "execution_count": null,
   "id": "7bcdb90d",
   "metadata": {},
   "outputs": [],
   "source": []
  }
 ],
 "metadata": {
  "kernelspec": {
   "display_name": "ironhack",
   "language": "python",
   "name": "ironhack"
  },
  "language_info": {
   "codemirror_mode": {
    "name": "ipython",
    "version": 3
   },
   "file_extension": ".py",
   "mimetype": "text/x-python",
   "name": "python",
   "nbconvert_exporter": "python",
   "pygments_lexer": "ipython3",
   "version": "3.8.11"
  }
 },
 "nbformat": 4,
 "nbformat_minor": 5
}
