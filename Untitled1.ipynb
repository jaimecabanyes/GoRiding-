{
 "cells": [
  {
   "cell_type": "markdown",
   "id": "5a95f7e6",
   "metadata": {},
   "source": [
    "# API"
   ]
  },
  {
   "cell_type": "code",
   "execution_count": 1,
   "id": "9a267c2b",
   "metadata": {},
   "outputs": [],
   "source": [
    "import requests\n",
    "import json\n",
    "from dotenv import load_dotenv\n",
    "import os\n",
    "import pyjsonviewer"
   ]
  },
  {
   "cell_type": "code",
   "execution_count": 2,
   "id": "4d761d32",
   "metadata": {},
   "outputs": [
    {
     "data": {
      "text/plain": [
       "True"
      ]
     },
     "execution_count": 2,
     "metadata": {},
     "output_type": "execute_result"
    }
   ],
   "source": [
    "load_dotenv()"
   ]
  },
  {
   "cell_type": "markdown",
   "id": "493e8a8f",
   "metadata": {},
   "source": [
    "# API WorldWeather"
   ]
  },
  {
   "cell_type": "code",
   "execution_count": 3,
   "id": "f67a192c",
   "metadata": {},
   "outputs": [],
   "source": [
    "tk_wwo = os.getenv(\"APIworldweather\")"
   ]
  },
  {
   "cell_type": "code",
   "execution_count": 4,
   "id": "1594bf0d",
   "metadata": {},
   "outputs": [
    {
     "name": "stdout",
     "output_type": "stream",
     "text": [
      "cd51f1b068e14aba879121853213009\n"
     ]
    }
   ],
   "source": [
    "print(tk_wwo)"
   ]
  },
  {
   "cell_type": "code",
   "execution_count": 5,
   "id": "f9c3804f",
   "metadata": {},
   "outputs": [],
   "source": [
    "url = 'https://api.worldweatheronline.com/premium/v1/ski.ashx'"
   ]
  },
  {
   "cell_type": "code",
   "execution_count": 6,
   "id": "d92e5552",
   "metadata": {},
   "outputs": [],
   "source": [
    "def llamada_API(url,CityCountry, num_of_days, date):\n",
    "    parametros = {\n",
    "    \"q\": f\"{CityCountry}\", #Can also pass Latitude and Longitude (XX.XXX,XX.XXX in decimal degrees)\n",
    "    \"num_of_days\": f\"{num_of_days}\" , #Number of days to do the forecast\n",
    "    \"date\": f\"{date}\", # (yyyy-MM-dd)\n",
    "    \"format\": \"json\"  ,\n",
    "    \"key\": tk_wwo \n",
    "}\n",
    "    response = requests.get(url, params = parametros).json()\n",
    "    return response"
   ]
  },
  {
   "cell_type": "code",
   "execution_count": 7,
   "id": "bffc92c7",
   "metadata": {},
   "outputs": [],
   "source": [
    "a = llamada_API(url, \"Lermoos+Grubigstein\", \"7\", \"2021-09-30\")"
   ]
  },
  {
   "cell_type": "code",
   "execution_count": null,
   "id": "c1bfbb60",
   "metadata": {},
   "outputs": [],
   "source": [
    "pyjsonviewer.view_data(json_data = a)"
   ]
  },
  {
   "cell_type": "code",
   "execution_count": 3,
   "id": "7afd38aa",
   "metadata": {},
   "outputs": [],
   "source": [
    " b = [ \"szyndzielnia-bielsko-biala/\", \"campo-di-giove-majella-occidentale/\", \"sassotetto-santa-maria-maddalena/\", \"plai/\", \"alpe-devero-baceno/\", \"drammen-skimore/\", \"kope/\", \"alpe-teglio-prato-valentino/\", \"reither-kogel-reith-im-alpbachtal/\", \"rogla/\", \"swieradow-zdroj/\", \"amneville-les-thermes-snowhall/\", \"tirolina-haltjochlift-hinterthiersee/\", \n",
    "         \"sahnehang/\", \"wurmberg-braunlage/\", \"hempelsberggeiersberg-oberwarmensteinach/\", \"trins/\", \"snow-valley-peer/\", \"monte-amiata/\", \"maalselv-fjellandsby/\", \"seli/\", \"certova-hora-harrachov/\", \"martinske-hole/\", \"scanno-monte-rotondo/\", \"saefsen/\", \"sunnmoersalpane-skiarena-fjellseter/\", \"3-5-pigadia-naousa/\", \"massif-de-la-serra-lamoura/\", \"/kerenzerberg-filzbach/\", \n",
    "         \"bocksberg-hahnenklee/\", \"katzenkopf-leutasch/\", \"telnice/\", \"goetschen-bischofswiesen/\", \"javornik/\", \"himos/\", \"pontechianale/\", \"la-feclaz/\", \"eremo-di-monte-carpegna/\", \"jochgrimm-passo-oclini/\", \"ala-di-stura/\", \"borgafjaell/\", \"tusten-molde/\", \"chastreix-puy-de-sancy/\", \"tyin-filefjell/\", \"skalka/\", \"zum-zeri-passo-dei-due-santi/\", \"hallingskarvet/\", \"dragobrat/\", \n",
    "         \"hovfjaellet-torsby/\", \"brunni-engelberg/\", \"harpefossen/\", \"brunnalmhohe-veitsch-veitsch-st-barbara-im-muerztal/\", \"orava-snow-oravska-lesna/\", \"chamois/\", \"kittelfjaell/\", \"kaabdalis/\", \"feldis/\", \"kazan/\", \"monte-baldo-malcesinepra-alpesina/\", \"piatra-neamt/\", \"harenda/\", \"les-planards/\", \"siarena-epleny/\", \"unterberg-pernitz/\", \"niederalpl-muerzsteg-neuberg-an-der-muerz/\", \n",
    "        \"ebenalp-horn-wasserauenschwende/\", \"rueschegg-eywald-lischboden/\", \"vuokatti/\", \"hassela/\", \"vallaasen/\", \"le-revard/\", \"les-rasses-sainte-croix/\", \"zinkenlifte-duerrnberg-hallein/\", \"piatra-graitoare/\", \"schatzalp-strela/\", \"dobrinishte/\", \"sauda-skisenter/\", \"storlien/\", \"skipark-racibor-oravsky-podzamok/\", \"haukelifjell-skisenter/\", \"grasgehren-bolgengrat/\", \"sunne/\", \"soriska-planina/\", \n",
    "           \"spicak/\", \"postalm-am-wolfgangsee/\", \"suomu/\", \"ukkohalla/\", \"camurac/\", \"taennaeskroeket/\", \"tramelan/\", \"wallberg-rottach-egern/\", \"monte-livata-subiaco-monna-dellorso/\", \"hochhaederich-hittisau/\", \"cervenohorske-sedlo/\", \"voras-kaimaktsalan/\", \"isaberg-hestra/\", \"valgrisenche/\", \"gambarie-daspromonte/\", \"ventron/\", \"skipark-erika-kojsovska-hola/\", \"markbuchenpredigtstuhl-st-englmar/\", \n",
    "             \"stinesser-lifte-fischen-i-allgaeu/\", \"raudalen-alpinsenteret/\", \"archenstadel-rinn/\", \"schneeberg-hagerlifte-mitterland-thiersee/\", \"niederhorn-beatenberg/\", \"golte/\", \"leitariegos/\", \"terre-rondela-praille-plateau-dhauteville/\", \"font-durle-chaud-clapier/\", \"koenigsberg-hollenstein-an-der-ybbs/\", \"vassfjellet-klaebutrondheim/\", \"palenica-szczawnica/\", \"gesundaberget/\", \"usseglio-pian-benot/\" \n",
    "               \"massif-du-noirmont-les-rousses/\", \"pustevny-trojanovice/\", \"fideriser-heuberge-arflina/\", \"campo-staffi/\", \"sorochany-kurovo/\", \"hochgrat-oberstaufen/\", \"balea-lac/\", \"monte-piselli-san-giacomo/\", \"zwoelferhorn-st-gilgen/\", \"schauinsland-hofsgrund/\", \"hohenbogen-neukirchen-bei-hl-blut/\", \"sonntag-stein/\", \"entracque/\", \"wendelstein-brannenburgosterhofen/\", \"gaaler-lifte-gaal/\", \"mont-sereinmont-ventoux-nord/\",\n",
    "               \"piazzatorre/\", \"paljakka/\", \"/les-paccotschatel-st-denis-corbetta/\", \"passolanciano/\", \"elfer-neustift/\", \"jeizinen-feselalp-gampelsteg/\", \"laye/\", \"saariselkae/\", \"skalafell/\", \"donezan-mijanes/\", \"rieseralm-obdach/\", \"presolana/\", \"sogn-skisenter/\", \"iso-syoete-pudasjaervi/\", \"serra-da-estrela/\", \"salzstiegl-hirschegg/\", \"faschina-fontanella/\", \"sonnberglifts-wald-am-schoberpass/\", \"pont-despagne-cauterets/\",\n",
    "               \"pylypets/\", \"radusa/\", \"atzmaennig-goldingen/\", \"stryn-skisenter/\", \"koetschach-mauthen-vorhegg/\", \"hohentauern/\", \"la-forclaz/\", \"cordon/\", \"hodlekve-sogndal/\", \"es-plans-dhotonnes/\", \"aeschiried/\", \"pallas/\", \"eikedalen/\", \"valbella-gallio/\", \"caldirola-monte-gropa/\", \"kreuzberg-bischofsheim-an-der-rhoen/\"] "
   ]
  },
  {
   "cell_type": "code",
   "execution_count": 16,
   "id": "e87db022",
   "metadata": {},
   "outputs": [
    {
     "data": {
      "text/plain": [
       "19"
      ]
     },
     "execution_count": 16,
     "metadata": {},
     "output_type": "execute_result"
    }
   ],
   "source": [
    "len(b) - 26 -13 -14-12-10-20-9 -21-5-8-8"
   ]
  },
  {
   "cell_type": "code",
   "execution_count": null,
   "id": "09064c33",
   "metadata": {},
   "outputs": [],
   "source": []
  }
 ],
 "metadata": {
  "kernelspec": {
   "display_name": "ironhack",
   "language": "python",
   "name": "ironhack"
  },
  "language_info": {
   "codemirror_mode": {
    "name": "ipython",
    "version": 3
   },
   "file_extension": ".py",
   "mimetype": "text/x-python",
   "name": "python",
   "nbconvert_exporter": "python",
   "pygments_lexer": "ipython3",
   "version": "3.8.11"
  }
 },
 "nbformat": 4,
 "nbformat_minor": 5
}
